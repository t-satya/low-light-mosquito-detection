{
 "cells": [
  {
   "cell_type": "code",
   "execution_count": 1,
   "id": "104eaaae",
   "metadata": {
    "_cell_guid": "b1076dfc-b9ad-4769-8c92-a6c4dae69d19",
    "_uuid": "8f2839f25d086af736a60e9eeb907d3b93b6e0e5",
    "execution": {
     "iopub.execute_input": "2024-12-06T09:45:51.816075Z",
     "iopub.status.busy": "2024-12-06T09:45:51.815827Z",
     "iopub.status.idle": "2024-12-06T09:45:52.508462Z",
     "shell.execute_reply": "2024-12-06T09:45:52.507796Z"
    },
    "papermill": {
     "duration": 0.699228,
     "end_time": "2024-12-06T09:45:52.510366",
     "exception": false,
     "start_time": "2024-12-06T09:45:51.811138",
     "status": "completed"
    },
    "tags": []
   },
   "outputs": [],
   "source": [
    "# This Python 3 environment comes with many helpful analytics libraries installed\n",
    "# It is defined by the kaggle/python Docker image: https://github.com/kaggle/docker-python\n",
    "# For example, here's several helpful packages to load\n",
    "\n",
    "import numpy as np # linear algebra\n",
    "import pandas as pd # data processing, CSV file I/O (e.g. pd.read_csv)\n",
    "\n",
    "# Input data files are available in the read-only \"../input/\" directory\n",
    "# For example, running this (by clicking run or pressing Shift+Enter) will list all files under the input directory\n",
    "\n",
    "import os\n",
    "# for dirname, _, filenames in os.walk('/kaggle/input'):\n",
    "#     for filename in filenames:\n",
    "#         print(os.path.join(dirname, filename))\n",
    "\n",
    "# You can write up to 20GB to the current directory (/kaggle/working/) that gets preserved as output when you create a version using \"Save & Run All\" \n",
    "# You can also write temporary files to /kaggle/temp/, but they won't be saved outside of the current session"
   ]
  },
  {
   "cell_type": "code",
   "execution_count": 2,
   "id": "ab537584",
   "metadata": {
    "execution": {
     "iopub.execute_input": "2024-12-06T09:45:52.518026Z",
     "iopub.status.busy": "2024-12-06T09:45:52.517685Z",
     "iopub.status.idle": "2024-12-06T09:46:02.832152Z",
     "shell.execute_reply": "2024-12-06T09:46:02.831367Z"
    },
    "papermill": {
     "duration": 10.320402,
     "end_time": "2024-12-06T09:46:02.834310",
     "exception": false,
     "start_time": "2024-12-06T09:45:52.513908",
     "status": "completed"
    },
    "tags": []
   },
   "outputs": [
    {
     "name": "stdout",
     "output_type": "stream",
     "text": [
      "Collecting ultralytics\r\n",
      "  Downloading ultralytics-8.3.43-py3-none-any.whl.metadata (35 kB)\r\n",
      "Requirement already satisfied: numpy>=1.23.0 in /opt/conda/lib/python3.10/site-packages (from ultralytics) (1.26.4)\r\n",
      "Requirement already satisfied: matplotlib>=3.3.0 in /opt/conda/lib/python3.10/site-packages (from ultralytics) (3.7.5)\r\n",
      "Requirement already satisfied: opencv-python>=4.6.0 in /opt/conda/lib/python3.10/site-packages (from ultralytics) (4.10.0.84)\r\n",
      "Requirement already satisfied: pillow>=7.1.2 in /opt/conda/lib/python3.10/site-packages (from ultralytics) (10.3.0)\r\n",
      "Requirement already satisfied: pyyaml>=5.3.1 in /opt/conda/lib/python3.10/site-packages (from ultralytics) (6.0.2)\r\n",
      "Requirement already satisfied: requests>=2.23.0 in /opt/conda/lib/python3.10/site-packages (from ultralytics) (2.32.3)\r\n",
      "Requirement already satisfied: scipy>=1.4.1 in /opt/conda/lib/python3.10/site-packages (from ultralytics) (1.14.1)\r\n",
      "Requirement already satisfied: torch>=1.8.0 in /opt/conda/lib/python3.10/site-packages (from ultralytics) (2.4.0)\r\n",
      "Requirement already satisfied: torchvision>=0.9.0 in /opt/conda/lib/python3.10/site-packages (from ultralytics) (0.19.0)\r\n",
      "Requirement already satisfied: tqdm>=4.64.0 in /opt/conda/lib/python3.10/site-packages (from ultralytics) (4.66.4)\r\n",
      "Requirement already satisfied: psutil in /opt/conda/lib/python3.10/site-packages (from ultralytics) (5.9.3)\r\n",
      "Requirement already satisfied: py-cpuinfo in /opt/conda/lib/python3.10/site-packages (from ultralytics) (9.0.0)\r\n",
      "Requirement already satisfied: pandas>=1.1.4 in /opt/conda/lib/python3.10/site-packages (from ultralytics) (2.2.3)\r\n",
      "Requirement already satisfied: seaborn>=0.11.0 in /opt/conda/lib/python3.10/site-packages (from ultralytics) (0.12.2)\r\n",
      "Collecting ultralytics-thop>=2.0.0 (from ultralytics)\r\n",
      "  Downloading ultralytics_thop-2.0.12-py3-none-any.whl.metadata (9.4 kB)\r\n",
      "Requirement already satisfied: contourpy>=1.0.1 in /opt/conda/lib/python3.10/site-packages (from matplotlib>=3.3.0->ultralytics) (1.2.1)\r\n",
      "Requirement already satisfied: cycler>=0.10 in /opt/conda/lib/python3.10/site-packages (from matplotlib>=3.3.0->ultralytics) (0.12.1)\r\n",
      "Requirement already satisfied: fonttools>=4.22.0 in /opt/conda/lib/python3.10/site-packages (from matplotlib>=3.3.0->ultralytics) (4.53.0)\r\n",
      "Requirement already satisfied: kiwisolver>=1.0.1 in /opt/conda/lib/python3.10/site-packages (from matplotlib>=3.3.0->ultralytics) (1.4.5)\r\n",
      "Requirement already satisfied: packaging>=20.0 in /opt/conda/lib/python3.10/site-packages (from matplotlib>=3.3.0->ultralytics) (21.3)\r\n",
      "Requirement already satisfied: pyparsing>=2.3.1 in /opt/conda/lib/python3.10/site-packages (from matplotlib>=3.3.0->ultralytics) (3.1.2)\r\n",
      "Requirement already satisfied: python-dateutil>=2.7 in /opt/conda/lib/python3.10/site-packages (from matplotlib>=3.3.0->ultralytics) (2.9.0.post0)\r\n",
      "Requirement already satisfied: pytz>=2020.1 in /opt/conda/lib/python3.10/site-packages (from pandas>=1.1.4->ultralytics) (2024.1)\r\n",
      "Requirement already satisfied: tzdata>=2022.7 in /opt/conda/lib/python3.10/site-packages (from pandas>=1.1.4->ultralytics) (2024.1)\r\n",
      "Requirement already satisfied: charset-normalizer<4,>=2 in /opt/conda/lib/python3.10/site-packages (from requests>=2.23.0->ultralytics) (3.3.2)\r\n",
      "Requirement already satisfied: idna<4,>=2.5 in /opt/conda/lib/python3.10/site-packages (from requests>=2.23.0->ultralytics) (3.7)\r\n",
      "Requirement already satisfied: urllib3<3,>=1.21.1 in /opt/conda/lib/python3.10/site-packages (from requests>=2.23.0->ultralytics) (1.26.18)\r\n",
      "Requirement already satisfied: certifi>=2017.4.17 in /opt/conda/lib/python3.10/site-packages (from requests>=2.23.0->ultralytics) (2024.6.2)\r\n",
      "Requirement already satisfied: filelock in /opt/conda/lib/python3.10/site-packages (from torch>=1.8.0->ultralytics) (3.15.1)\r\n",
      "Requirement already satisfied: typing-extensions>=4.8.0 in /opt/conda/lib/python3.10/site-packages (from torch>=1.8.0->ultralytics) (4.12.2)\r\n",
      "Requirement already satisfied: sympy in /opt/conda/lib/python3.10/site-packages (from torch>=1.8.0->ultralytics) (1.13.3)\r\n",
      "Requirement already satisfied: networkx in /opt/conda/lib/python3.10/site-packages (from torch>=1.8.0->ultralytics) (3.3)\r\n",
      "Requirement already satisfied: jinja2 in /opt/conda/lib/python3.10/site-packages (from torch>=1.8.0->ultralytics) (3.1.4)\r\n",
      "Requirement already satisfied: fsspec in /opt/conda/lib/python3.10/site-packages (from torch>=1.8.0->ultralytics) (2024.6.0)\r\n",
      "Requirement already satisfied: six>=1.5 in /opt/conda/lib/python3.10/site-packages (from python-dateutil>=2.7->matplotlib>=3.3.0->ultralytics) (1.16.0)\r\n",
      "Requirement already satisfied: MarkupSafe>=2.0 in /opt/conda/lib/python3.10/site-packages (from jinja2->torch>=1.8.0->ultralytics) (2.1.5)\r\n",
      "Requirement already satisfied: mpmath<1.4,>=1.1.0 in /opt/conda/lib/python3.10/site-packages (from sympy->torch>=1.8.0->ultralytics) (1.3.0)\r\n",
      "Downloading ultralytics-8.3.43-py3-none-any.whl (898 kB)\r\n",
      "\u001b[2K   \u001b[90m━━━━━━━━━━━━━━━━━━━━━━━━━━━━━━━━━━━━━━━━\u001b[0m \u001b[32m898.4/898.4 kB\u001b[0m \u001b[31m20.1 MB/s\u001b[0m eta \u001b[36m0:00:00\u001b[0m\r\n",
      "\u001b[?25hDownloading ultralytics_thop-2.0.12-py3-none-any.whl (26 kB)\r\n",
      "Installing collected packages: ultralytics-thop, ultralytics\r\n",
      "Successfully installed ultralytics-8.3.43 ultralytics-thop-2.0.12\r\n"
     ]
    }
   ],
   "source": [
    "# Install YOLOv8\n",
    "!pip install ultralytics"
   ]
  },
  {
   "cell_type": "code",
   "execution_count": 3,
   "id": "2f058aff",
   "metadata": {
    "execution": {
     "iopub.execute_input": "2024-12-06T09:46:02.843955Z",
     "iopub.status.busy": "2024-12-06T09:46:02.843385Z",
     "iopub.status.idle": "2024-12-06T09:46:06.017854Z",
     "shell.execute_reply": "2024-12-06T09:46:06.016852Z"
    },
    "papermill": {
     "duration": 3.181106,
     "end_time": "2024-12-06T09:46:06.019671",
     "exception": false,
     "start_time": "2024-12-06T09:46:02.838565",
     "status": "completed"
    },
    "tags": []
   },
   "outputs": [
    {
     "name": "stdout",
     "output_type": "stream",
     "text": [
      "Using device: cuda\n"
     ]
    }
   ],
   "source": [
    "import torch\n",
    "\n",
    "# Set device to GPU if available\n",
    "device = torch.device('cuda' if torch.cuda.is_available() else 'cpu')\n",
    "print(f\"Using device: {device}\")\n"
   ]
  },
  {
   "cell_type": "code",
   "execution_count": 4,
   "id": "4e6b61de",
   "metadata": {
    "execution": {
     "iopub.execute_input": "2024-12-06T09:46:06.028852Z",
     "iopub.status.busy": "2024-12-06T09:46:06.028466Z",
     "iopub.status.idle": "2024-12-06T09:46:06.204040Z",
     "shell.execute_reply": "2024-12-06T09:46:06.203067Z"
    },
    "papermill": {
     "duration": 0.182024,
     "end_time": "2024-12-06T09:46:06.205766",
     "exception": false,
     "start_time": "2024-12-06T09:46:06.023742",
     "status": "completed"
    },
    "tags": []
   },
   "outputs": [
    {
     "name": "stdout",
     "output_type": "stream",
     "text": [
      "Total dataset size: 7500\n",
      "Training set size: 6750\n",
      "Validation set size: 750\n"
     ]
    }
   ],
   "source": [
    "import os\n",
    "import random\n",
    "\n",
    "# Paths to image and label directories\n",
    "image_dir = '/kaggle/input/dlp-object-detection/final_dlp_data/final_dlp_data/train/images'\n",
    "label_dir = '/kaggle/input/dlp-object-detection/final_dlp_data/final_dlp_data/train/labels'\n",
    "\n",
    "# Get list of image files (make sure they're .jpg or .png)\n",
    "image_files = [f for f in os.listdir(image_dir) if f.endswith(('.jpeg', '.png'))]\n",
    "\n",
    "\n",
    "# Shuffle and split dataset into train (90%) and validation (10%)\n",
    "random.seed(42)\n",
    "random.shuffle(image_files)\n",
    "train_size = int(0.9 * len(image_files))\n",
    "train_dataset = image_files[:train_size]\n",
    "val_dataset = image_files[train_size:]\n",
    "\n",
    "# Print dataset sizes\n",
    "print(f\"Total dataset size: {len(image_files)}\")\n",
    "print(f\"Training set size: {len(train_dataset)}\")\n",
    "print(f\"Validation set size: {len(val_dataset)}\")\n"
   ]
  },
  {
   "cell_type": "code",
   "execution_count": 5,
   "id": "a92ada7f",
   "metadata": {
    "execution": {
     "iopub.execute_input": "2024-12-06T09:46:06.215843Z",
     "iopub.status.busy": "2024-12-06T09:46:06.215569Z",
     "iopub.status.idle": "2024-12-06T09:46:06.220674Z",
     "shell.execute_reply": "2024-12-06T09:46:06.219876Z"
    },
    "papermill": {
     "duration": 0.011339,
     "end_time": "2024-12-06T09:46:06.222148",
     "exception": false,
     "start_time": "2024-12-06T09:46:06.210809",
     "status": "completed"
    },
    "tags": []
   },
   "outputs": [],
   "source": [
    "train_images_path = \"dataset/train/images\"\n",
    "train_labels_path = \"dataset/train/labels\"\n",
    "val_images_path = \"dataset/val/images\"\n",
    "val_labels_path = \"dataset/val/labels\"\n",
    "\n",
    "os.makedirs(train_images_path,exist_ok=True)\n",
    "os.makedirs(train_labels_path,exist_ok=True)\n",
    "os.makedirs(val_images_path,exist_ok=True)\n",
    "os.makedirs(val_labels_path,exist_ok=True)"
   ]
  },
  {
   "cell_type": "code",
   "execution_count": 6,
   "id": "0610a332",
   "metadata": {
    "execution": {
     "iopub.execute_input": "2024-12-06T09:46:06.230812Z",
     "iopub.status.busy": "2024-12-06T09:46:06.230575Z",
     "iopub.status.idle": "2024-12-06T09:49:00.454119Z",
     "shell.execute_reply": "2024-12-06T09:49:00.453390Z"
    },
    "papermill": {
     "duration": 174.230247,
     "end_time": "2024-12-06T09:49:00.456375",
     "exception": false,
     "start_time": "2024-12-06T09:46:06.226128",
     "status": "completed"
    },
    "tags": []
   },
   "outputs": [],
   "source": [
    "import shutil\n",
    "def copy_files(image_list, src_image_dir, src_label_dir, dest_image_dir, dest_label_dir):\n",
    "    for image_name in image_list:\n",
    "        # Copy image\n",
    "        src_image_path = os.path.join(src_image_dir, image_name)\n",
    "        dest_image_path = os.path.join(dest_image_dir, image_name)\n",
    "        shutil.copy2(src_image_path, dest_image_path)\n",
    "\n",
    "        # Copy corresponding label\n",
    "        label_name = image_name.replace('.jpeg', '.txt')  # Assuming label files match image names\n",
    "        src_label_path = os.path.join(src_label_dir, label_name)\n",
    "        dest_label_path = os.path.join(dest_label_dir, label_name)\n",
    "        \n",
    "        shutil.copy2(src_label_path, dest_label_path)\n",
    "\n",
    "# Copy train files\n",
    "copy_files(train_dataset, image_dir, label_dir, train_images_path, train_labels_path)\n",
    "\n",
    "# Copy validation files\n",
    "copy_files(val_dataset, image_dir, label_dir, val_images_path, val_labels_path)\n"
   ]
  },
  {
   "cell_type": "code",
   "execution_count": 7,
   "id": "c9a36afd",
   "metadata": {
    "execution": {
     "iopub.execute_input": "2024-12-06T09:49:00.465852Z",
     "iopub.status.busy": "2024-12-06T09:49:00.465570Z",
     "iopub.status.idle": "2024-12-06T09:49:00.488936Z",
     "shell.execute_reply": "2024-12-06T09:49:00.488050Z"
    },
    "papermill": {
     "duration": 0.029833,
     "end_time": "2024-12-06T09:49:00.490734",
     "exception": false,
     "start_time": "2024-12-06T09:49:00.460901",
     "status": "completed"
    },
    "tags": []
   },
   "outputs": [
    {
     "name": "stdout",
     "output_type": "stream",
     "text": [
      "YAML file created at /kaggle/working/dataset.yaml\n"
     ]
    }
   ],
   "source": [
    "import yaml\n",
    "\n",
    "# Define the dataset configuration\n",
    "data = {\n",
    "    'train': '/kaggle/working/dataset/train/images',  # Path to training images (relative to 'path')\n",
    "    'val': '/kaggle/working/dataset/val/images',      # Path to validation images (relative to 'path')\n",
    "    'nc': 6,                  # Number of classes\n",
    "    'names': [\"aegypti\",\"albopictus\",\"anopheles\",\"culex\",\"culiseta\",\"japonicus/koreicus\"]   # Class names\n",
    "}\n",
    "\n",
    "# Save to a YAML file\n",
    "with open('/kaggle/working/dataset.yaml', 'w') as file:\n",
    "    yaml.dump(data, file, default_flow_style=False)\n",
    "\n",
    "print(\"YAML file created at /kaggle/working/dataset.yaml\")\n"
   ]
  },
  {
   "cell_type": "code",
   "execution_count": 8,
   "id": "a826ffd5",
   "metadata": {
    "execution": {
     "iopub.execute_input": "2024-12-06T09:49:00.499664Z",
     "iopub.status.busy": "2024-12-06T09:49:00.499345Z",
     "iopub.status.idle": "2024-12-06T10:23:05.768382Z",
     "shell.execute_reply": "2024-12-06T10:23:05.767277Z"
    },
    "papermill": {
     "duration": 2045.27619,
     "end_time": "2024-12-06T10:23:05.770790",
     "exception": false,
     "start_time": "2024-12-06T09:49:00.494600",
     "status": "completed"
    },
    "tags": []
   },
   "outputs": [
    {
     "name": "stdout",
     "output_type": "stream",
     "text": [
      "Creating new Ultralytics Settings v0.0.6 file ✅ \n",
      "View Ultralytics Settings with 'yolo settings' or at '/root/.config/Ultralytics/settings.json'\n",
      "Update Settings with 'yolo settings key=value', i.e. 'yolo settings runs_dir=path/to/dir'. For help see https://docs.ultralytics.com/quickstart/#ultralytics-settings.\n",
      "Downloading https://github.com/ultralytics/assets/releases/download/v8.3.0/yolov8n.pt to 'yolov8n.pt'...\n"
     ]
    },
    {
     "name": "stderr",
     "output_type": "stream",
     "text": [
      "100%|██████████| 6.25M/6.25M [00:00<00:00, 103MB/s]\n"
     ]
    },
    {
     "name": "stdout",
     "output_type": "stream",
     "text": [
      "Ultralytics 8.3.43 🚀 Python-3.10.14 torch-2.4.0 CUDA:0 (Tesla T4, 15095MiB)\n",
      "\u001b[34m\u001b[1mengine/trainer: \u001b[0mtask=detect, mode=train, model=yolov8n.pt, data=dataset.yaml, epochs=10, time=None, patience=100, batch=16, imgsz=864, save=True, save_period=-1, cache=False, device=0, workers=8, project=None, name=train, exist_ok=False, pretrained=True, optimizer=auto, verbose=True, seed=0, deterministic=True, single_cls=False, rect=False, cos_lr=False, close_mosaic=10, resume=False, amp=True, fraction=1.0, profile=False, freeze=None, multi_scale=False, overlap_mask=True, mask_ratio=4, dropout=0.0, val=True, split=val, save_json=False, save_hybrid=False, conf=None, iou=0.7, max_det=300, half=False, dnn=False, plots=True, source=None, vid_stride=1, stream_buffer=False, visualize=False, augment=False, agnostic_nms=False, classes=None, retina_masks=False, embed=None, show=False, save_frames=False, save_txt=False, save_conf=False, save_crop=False, show_labels=True, show_conf=True, show_boxes=True, line_width=None, format=torchscript, keras=False, optimize=False, int8=False, dynamic=False, simplify=True, opset=None, workspace=None, nms=False, lr0=0.01, lrf=0.01, momentum=0.937, weight_decay=0.0005, warmup_epochs=3.0, warmup_momentum=0.8, warmup_bias_lr=0.1, box=7.5, cls=0.5, dfl=1.5, pose=12.0, kobj=1.0, nbs=64, hsv_h=0.015, hsv_s=0.7, hsv_v=0.4, degrees=0.0, translate=0.1, scale=0.5, shear=0.0, perspective=0.0, flipud=0.0, fliplr=0.5, bgr=0.0, mosaic=1.0, mixup=0.0, copy_paste=0.0, copy_paste_mode=flip, auto_augment=randaugment, erasing=0.4, crop_fraction=1.0, cfg=None, tracker=botsort.yaml, save_dir=runs/detect/train\n",
      "Downloading https://ultralytics.com/assets/Arial.ttf to '/root/.config/Ultralytics/Arial.ttf'...\n"
     ]
    },
    {
     "name": "stderr",
     "output_type": "stream",
     "text": [
      "100%|██████████| 755k/755k [00:00<00:00, 22.4MB/s]\n"
     ]
    },
    {
     "name": "stdout",
     "output_type": "stream",
     "text": [
      "Overriding model.yaml nc=80 with nc=6\n",
      "\n",
      "                   from  n    params  module                                       arguments                     \n",
      "  0                  -1  1       464  ultralytics.nn.modules.conv.Conv             [3, 16, 3, 2]                 \n",
      "  1                  -1  1      4672  ultralytics.nn.modules.conv.Conv             [16, 32, 3, 2]                \n",
      "  2                  -1  1      7360  ultralytics.nn.modules.block.C2f             [32, 32, 1, True]             \n",
      "  3                  -1  1     18560  ultralytics.nn.modules.conv.Conv             [32, 64, 3, 2]                \n",
      "  4                  -1  2     49664  ultralytics.nn.modules.block.C2f             [64, 64, 2, True]             \n",
      "  5                  -1  1     73984  ultralytics.nn.modules.conv.Conv             [64, 128, 3, 2]               \n",
      "  6                  -1  2    197632  ultralytics.nn.modules.block.C2f             [128, 128, 2, True]           \n",
      "  7                  -1  1    295424  ultralytics.nn.modules.conv.Conv             [128, 256, 3, 2]              \n",
      "  8                  -1  1    460288  ultralytics.nn.modules.block.C2f             [256, 256, 1, True]           \n",
      "  9                  -1  1    164608  ultralytics.nn.modules.block.SPPF            [256, 256, 5]                 \n",
      " 10                  -1  1         0  torch.nn.modules.upsampling.Upsample         [None, 2, 'nearest']          \n",
      " 11             [-1, 6]  1         0  ultralytics.nn.modules.conv.Concat           [1]                           \n",
      " 12                  -1  1    148224  ultralytics.nn.modules.block.C2f             [384, 128, 1]                 \n",
      " 13                  -1  1         0  torch.nn.modules.upsampling.Upsample         [None, 2, 'nearest']          \n",
      " 14             [-1, 4]  1         0  ultralytics.nn.modules.conv.Concat           [1]                           \n",
      " 15                  -1  1     37248  ultralytics.nn.modules.block.C2f             [192, 64, 1]                  \n",
      " 16                  -1  1     36992  ultralytics.nn.modules.conv.Conv             [64, 64, 3, 2]                \n",
      " 17            [-1, 12]  1         0  ultralytics.nn.modules.conv.Concat           [1]                           \n",
      " 18                  -1  1    123648  ultralytics.nn.modules.block.C2f             [192, 128, 1]                 \n",
      " 19                  -1  1    147712  ultralytics.nn.modules.conv.Conv             [128, 128, 3, 2]              \n",
      " 20             [-1, 9]  1         0  ultralytics.nn.modules.conv.Concat           [1]                           \n",
      " 21                  -1  1    493056  ultralytics.nn.modules.block.C2f             [384, 256, 1]                 \n",
      " 22        [15, 18, 21]  1    752482  ultralytics.nn.modules.head.Detect           [6, [64, 128, 256]]           \n",
      "Model summary: 225 layers, 3,012,018 parameters, 3,012,002 gradients, 8.2 GFLOPs\n",
      "\n",
      "Transferred 319/355 items from pretrained weights\n",
      "\u001b[34m\u001b[1mTensorBoard: \u001b[0mStart with 'tensorboard --logdir runs/detect/train', view at http://localhost:6006/\n",
      "Freezing layer 'model.22.dfl.conv.weight'\n",
      "\u001b[34m\u001b[1mAMP: \u001b[0mrunning Automatic Mixed Precision (AMP) checks...\n",
      "Downloading https://github.com/ultralytics/assets/releases/download/v8.3.0/yolo11n.pt to 'yolo11n.pt'...\n"
     ]
    },
    {
     "name": "stderr",
     "output_type": "stream",
     "text": [
      "100%|██████████| 5.35M/5.35M [00:00<00:00, 90.9MB/s]\n"
     ]
    },
    {
     "name": "stdout",
     "output_type": "stream",
     "text": [
      "\u001b[34m\u001b[1mAMP: \u001b[0mchecks passed ✅\n"
     ]
    },
    {
     "name": "stderr",
     "output_type": "stream",
     "text": [
      "\u001b[34m\u001b[1mtrain: \u001b[0mScanning /kaggle/working/dataset/train/labels... 3638 images, 0 backgrounds, 1 corrupt:  54%|█████▍    | 3638/6750 [00:03<00:02, 1182.46it/s]/opt/conda/lib/python3.10/site-packages/PIL/Image.py:3406: DecompressionBombWarning: Image size (108000000 pixels) exceeds limit of 89478485 pixels, could be decompression bomb DOS attack.\n",
      "  warnings.warn(\n",
      "\u001b[34m\u001b[1mtrain: \u001b[0mScanning /kaggle/working/dataset/train/labels... 6750 images, 0 backgrounds, 1 corrupt: 100%|██████████| 6750/6750 [00:05<00:00, 1188.82it/s]"
     ]
    },
    {
     "name": "stdout",
     "output_type": "stream",
     "text": [
      "\u001b[34m\u001b[1mtrain: \u001b[0mWARNING ⚠️ /kaggle/working/dataset/train/images/120b30b0-c7db-4f0a-bead-a30424a65453.jpeg: ignoring corrupt image/label: non-normalized or out of bounds coordinates [     1.0068]\n"
     ]
    },
    {
     "name": "stderr",
     "output_type": "stream",
     "text": [
      "\n"
     ]
    },
    {
     "name": "stdout",
     "output_type": "stream",
     "text": [
      "\u001b[34m\u001b[1mtrain: \u001b[0mNew cache created: /kaggle/working/dataset/train/labels.cache\n",
      "\u001b[34m\u001b[1malbumentations: \u001b[0mBlur(p=0.01, blur_limit=(3, 7)), MedianBlur(p=0.01, blur_limit=(3, 7)), ToGray(p=0.01, num_output_channels=3, method='weighted_average'), CLAHE(p=0.01, clip_limit=(1.0, 4.0), tile_grid_size=(8, 8))\n"
     ]
    },
    {
     "name": "stderr",
     "output_type": "stream",
     "text": [
      "/opt/conda/lib/python3.10/multiprocessing/popen_fork.py:66: RuntimeWarning: os.fork() was called. os.fork() is incompatible with multithreaded code, and JAX is multithreaded, so this will likely lead to a deadlock.\n",
      "  self.pid = os.fork()\n",
      "\u001b[34m\u001b[1mval: \u001b[0mScanning /kaggle/working/dataset/val/labels... 750 images, 0 backgrounds, 0 corrupt: 100%|██████████| 750/750 [00:00<00:00, 876.15it/s]"
     ]
    },
    {
     "name": "stdout",
     "output_type": "stream",
     "text": [
      "\u001b[34m\u001b[1mval: \u001b[0mNew cache created: /kaggle/working/dataset/val/labels.cache\n"
     ]
    },
    {
     "name": "stderr",
     "output_type": "stream",
     "text": [
      "\n"
     ]
    },
    {
     "name": "stdout",
     "output_type": "stream",
     "text": [
      "Plotting labels to runs/detect/train/labels.jpg... \n",
      "\u001b[34m\u001b[1moptimizer:\u001b[0m 'optimizer=auto' found, ignoring 'lr0=0.01' and 'momentum=0.937' and determining best 'optimizer', 'lr0' and 'momentum' automatically... \n",
      "\u001b[34m\u001b[1moptimizer:\u001b[0m AdamW(lr=0.001, momentum=0.9) with parameter groups 57 weight(decay=0.0), 64 weight(decay=0.0005), 63 bias(decay=0.0)\n",
      "\u001b[34m\u001b[1mTensorBoard: \u001b[0mmodel graph visualization added ✅\n",
      "Image sizes 864 train, 864 val\n",
      "Using 4 dataloader workers\n",
      "Logging results to \u001b[1mruns/detect/train\u001b[0m\n",
      "Starting training for 10 epochs...\n",
      "Closing dataloader mosaic\n",
      "\u001b[34m\u001b[1malbumentations: \u001b[0mBlur(p=0.01, blur_limit=(3, 7)), MedianBlur(p=0.01, blur_limit=(3, 7)), ToGray(p=0.01, num_output_channels=3, method='weighted_average'), CLAHE(p=0.01, clip_limit=(1.0, 4.0), tile_grid_size=(8, 8))\n"
     ]
    },
    {
     "name": "stderr",
     "output_type": "stream",
     "text": [
      "/opt/conda/lib/python3.10/multiprocessing/popen_fork.py:66: RuntimeWarning: os.fork() was called. os.fork() is incompatible with multithreaded code, and JAX is multithreaded, so this will likely lead to a deadlock.\n",
      "  self.pid = os.fork()\n",
      "/opt/conda/lib/python3.10/multiprocessing/popen_fork.py:66: RuntimeWarning: os.fork() was called. os.fork() is incompatible with multithreaded code, and JAX is multithreaded, so this will likely lead to a deadlock.\n",
      "  self.pid = os.fork()\n"
     ]
    },
    {
     "name": "stdout",
     "output_type": "stream",
     "text": [
      "\n",
      "      Epoch    GPU_mem   box_loss   cls_loss   dfl_loss  Instances       Size\n"
     ]
    },
    {
     "name": "stderr",
     "output_type": "stream",
     "text": [
      "       1/10      3.92G      1.267      3.735      1.503         13        864: 100%|██████████| 422/422 [03:12<00:00,  2.20it/s]\n",
      "                 Class     Images  Instances      Box(P          R      mAP50  mAP50-95): 100%|██████████| 24/24 [00:16<00:00,  1.46it/s]\n"
     ]
    },
    {
     "name": "stdout",
     "output_type": "stream",
     "text": [
      "                   all        750        750      0.543      0.303      0.277      0.177\n",
      "\n",
      "      Epoch    GPU_mem   box_loss   cls_loss   dfl_loss  Instances       Size\n"
     ]
    },
    {
     "name": "stderr",
     "output_type": "stream",
     "text": [
      "       2/10      3.75G      1.203      1.885      1.415         13        864: 100%|██████████| 422/422 [03:01<00:00,  2.32it/s]\n",
      "                 Class     Images  Instances      Box(P          R      mAP50  mAP50-95): 100%|██████████| 24/24 [00:14<00:00,  1.68it/s]"
     ]
    },
    {
     "name": "stdout",
     "output_type": "stream",
     "text": [
      "                   all        750        750      0.917      0.262      0.313      0.214\n"
     ]
    },
    {
     "name": "stderr",
     "output_type": "stream",
     "text": [
      "\n"
     ]
    },
    {
     "name": "stdout",
     "output_type": "stream",
     "text": [
      "\n",
      "      Epoch    GPU_mem   box_loss   cls_loss   dfl_loss  Instances       Size\n"
     ]
    },
    {
     "name": "stderr",
     "output_type": "stream",
     "text": [
      "       3/10      3.75G       1.19      1.354       1.39         13        864: 100%|██████████| 422/422 [03:00<00:00,  2.34it/s]\n",
      "                 Class     Images  Instances      Box(P          R      mAP50  mAP50-95): 100%|██████████| 24/24 [00:14<00:00,  1.67it/s]"
     ]
    },
    {
     "name": "stdout",
     "output_type": "stream",
     "text": [
      "                   all        750        750      0.906      0.276      0.311      0.208\n"
     ]
    },
    {
     "name": "stderr",
     "output_type": "stream",
     "text": [
      "\n"
     ]
    },
    {
     "name": "stdout",
     "output_type": "stream",
     "text": [
      "\n",
      "      Epoch    GPU_mem   box_loss   cls_loss   dfl_loss  Instances       Size\n"
     ]
    },
    {
     "name": "stderr",
     "output_type": "stream",
     "text": [
      "       4/10      3.75G      1.148      1.198      1.357         13        864: 100%|██████████| 422/422 [02:59<00:00,  2.36it/s]\n",
      "                 Class     Images  Instances      Box(P          R      mAP50  mAP50-95): 100%|██████████| 24/24 [00:15<00:00,  1.60it/s]\n"
     ]
    },
    {
     "name": "stdout",
     "output_type": "stream",
     "text": [
      "                   all        750        750      0.578      0.368      0.334      0.242\n",
      "\n",
      "      Epoch    GPU_mem   box_loss   cls_loss   dfl_loss  Instances       Size\n"
     ]
    },
    {
     "name": "stderr",
     "output_type": "stream",
     "text": [
      "       5/10      3.74G      1.096      1.091      1.319         13        864: 100%|██████████| 422/422 [03:03<00:00,  2.30it/s]\n",
      "                 Class     Images  Instances      Box(P          R      mAP50  mAP50-95): 100%|██████████| 24/24 [00:14<00:00,  1.63it/s]"
     ]
    },
    {
     "name": "stdout",
     "output_type": "stream",
     "text": [
      "                   all        750        750      0.598      0.377      0.341      0.245\n"
     ]
    },
    {
     "name": "stderr",
     "output_type": "stream",
     "text": [
      "\n"
     ]
    },
    {
     "name": "stdout",
     "output_type": "stream",
     "text": [
      "\n",
      "      Epoch    GPU_mem   box_loss   cls_loss   dfl_loss  Instances       Size\n"
     ]
    },
    {
     "name": "stderr",
     "output_type": "stream",
     "text": [
      "       6/10      3.75G      1.054      1.012      1.288         13        864: 100%|██████████| 422/422 [03:02<00:00,  2.31it/s]\n",
      "                 Class     Images  Instances      Box(P          R      mAP50  mAP50-95): 100%|██████████| 24/24 [00:15<00:00,  1.52it/s]"
     ]
    },
    {
     "name": "stdout",
     "output_type": "stream",
     "text": [
      "                   all        750        750      0.576      0.377      0.334      0.238\n"
     ]
    },
    {
     "name": "stderr",
     "output_type": "stream",
     "text": [
      "\n"
     ]
    },
    {
     "name": "stdout",
     "output_type": "stream",
     "text": [
      "\n",
      "      Epoch    GPU_mem   box_loss   cls_loss   dfl_loss  Instances       Size\n"
     ]
    },
    {
     "name": "stderr",
     "output_type": "stream",
     "text": [
      "       7/10      3.74G      1.004     0.9385      1.247         13        864: 100%|██████████| 422/422 [02:59<00:00,  2.35it/s]\n",
      "                 Class     Images  Instances      Box(P          R      mAP50  mAP50-95): 100%|██████████| 24/24 [00:14<00:00,  1.68it/s]"
     ]
    },
    {
     "name": "stdout",
     "output_type": "stream",
     "text": [
      "                   all        750        750      0.671      0.423       0.38      0.282\n"
     ]
    },
    {
     "name": "stderr",
     "output_type": "stream",
     "text": [
      "\n"
     ]
    },
    {
     "name": "stdout",
     "output_type": "stream",
     "text": [
      "\n",
      "      Epoch    GPU_mem   box_loss   cls_loss   dfl_loss  Instances       Size\n"
     ]
    },
    {
     "name": "stderr",
     "output_type": "stream",
     "text": [
      "       8/10      3.75G     0.9712     0.8833      1.223         13        864: 100%|██████████| 422/422 [02:59<00:00,  2.35it/s]\n",
      "                 Class     Images  Instances      Box(P          R      mAP50  mAP50-95): 100%|██████████| 24/24 [00:14<00:00,  1.63it/s]"
     ]
    },
    {
     "name": "stdout",
     "output_type": "stream",
     "text": [
      "                   all        750        750      0.651       0.43      0.393      0.289\n"
     ]
    },
    {
     "name": "stderr",
     "output_type": "stream",
     "text": [
      "\n"
     ]
    },
    {
     "name": "stdout",
     "output_type": "stream",
     "text": [
      "\n",
      "      Epoch    GPU_mem   box_loss   cls_loss   dfl_loss  Instances       Size\n"
     ]
    },
    {
     "name": "stderr",
     "output_type": "stream",
     "text": [
      "       9/10      3.74G     0.9391     0.8368        1.2         13        864: 100%|██████████| 422/422 [03:00<00:00,  2.34it/s]\n",
      "                 Class     Images  Instances      Box(P          R      mAP50  mAP50-95): 100%|██████████| 24/24 [00:14<00:00,  1.62it/s]"
     ]
    },
    {
     "name": "stdout",
     "output_type": "stream",
     "text": [
      "                   all        750        750      0.645       0.48      0.387      0.291\n"
     ]
    },
    {
     "name": "stderr",
     "output_type": "stream",
     "text": [
      "\n"
     ]
    },
    {
     "name": "stdout",
     "output_type": "stream",
     "text": [
      "\n",
      "      Epoch    GPU_mem   box_loss   cls_loss   dfl_loss  Instances       Size\n"
     ]
    },
    {
     "name": "stderr",
     "output_type": "stream",
     "text": [
      "      10/10      3.75G     0.9032     0.7904      1.173         13        864: 100%|██████████| 422/422 [02:59<00:00,  2.35it/s]\n",
      "                 Class     Images  Instances      Box(P          R      mAP50  mAP50-95): 100%|██████████| 24/24 [00:14<00:00,  1.65it/s]"
     ]
    },
    {
     "name": "stdout",
     "output_type": "stream",
     "text": [
      "                   all        750        750      0.659      0.454      0.422      0.322\n"
     ]
    },
    {
     "name": "stderr",
     "output_type": "stream",
     "text": [
      "\n"
     ]
    },
    {
     "name": "stdout",
     "output_type": "stream",
     "text": [
      "\n",
      "10 epochs completed in 0.551 hours.\n",
      "Optimizer stripped from runs/detect/train/weights/last.pt, 6.2MB\n",
      "Optimizer stripped from runs/detect/train/weights/best.pt, 6.2MB\n",
      "\n",
      "Validating runs/detect/train/weights/best.pt...\n",
      "Ultralytics 8.3.43 🚀 Python-3.10.14 torch-2.4.0 CUDA:0 (Tesla T4, 15095MiB)\n",
      "Model summary (fused): 168 layers, 3,006,818 parameters, 0 gradients, 8.1 GFLOPs\n"
     ]
    },
    {
     "name": "stderr",
     "output_type": "stream",
     "text": [
      "                 Class     Images  Instances      Box(P          R      mAP50  mAP50-95): 100%|██████████| 24/24 [00:15<00:00,  1.53it/s]\n"
     ]
    },
    {
     "name": "stdout",
     "output_type": "stream",
     "text": [
      "                   all        750        750      0.659      0.454      0.423      0.322\n",
      "               aegypti          2          2          1          0     0.0829     0.0603\n",
      "            albopictus        317        317      0.749      0.965      0.936      0.684\n",
      "             anopheles          6          6          1          0     0.0539     0.0458\n",
      "                 culex        360        360      0.725       0.95      0.921      0.716\n",
      "              culiseta         35         35      0.202      0.543      0.285      0.233\n",
      "    japonicus/koreicus         30         30       0.28      0.267      0.256      0.191\n",
      "Speed: 0.3ms preprocess, 3.0ms inference, 0.0ms loss, 2.0ms postprocess per image\n",
      "Results saved to \u001b[1mruns/detect/train\u001b[0m\n"
     ]
    }
   ],
   "source": [
    "from ultralytics import YOLO\n",
    "\n",
    "model = YOLO(\"yolov8n.pt\")\n",
    "results = model.train(data=\"dataset.yaml\",\n",
    "                     epochs=10,\n",
    "                     imgsz=864,\n",
    "                     device=0,\n",
    "                     batch=16,\n",
    "                     verbose=True,\n",
    "                     )"
   ]
  },
  {
   "cell_type": "code",
   "execution_count": 9,
   "id": "2bc9f54f",
   "metadata": {
    "execution": {
     "iopub.execute_input": "2024-12-06T10:23:06.634726Z",
     "iopub.status.busy": "2024-12-06T10:23:06.633629Z",
     "iopub.status.idle": "2024-12-06T10:23:29.144642Z",
     "shell.execute_reply": "2024-12-06T10:23:29.143412Z"
    },
    "papermill": {
     "duration": 22.925452,
     "end_time": "2024-12-06T10:23:29.146794",
     "exception": false,
     "start_time": "2024-12-06T10:23:06.221342",
     "status": "completed"
    },
    "tags": []
   },
   "outputs": [
    {
     "name": "stdout",
     "output_type": "stream",
     "text": [
      "Ultralytics 8.3.43 🚀 Python-3.10.14 torch-2.4.0 CUDA:0 (Tesla T4, 15095MiB)\n",
      "Model summary (fused): 168 layers, 3,006,818 parameters, 0 gradients, 8.1 GFLOPs\n"
     ]
    },
    {
     "name": "stderr",
     "output_type": "stream",
     "text": [
      "\u001b[34m\u001b[1mval: \u001b[0mScanning /kaggle/working/dataset/val/labels.cache... 750 images, 0 backgrounds, 0 corrupt: 100%|██████████| 750/750 [00:00<?, ?it/s]\n",
      "/opt/conda/lib/python3.10/multiprocessing/popen_fork.py:66: RuntimeWarning: os.fork() was called. os.fork() is incompatible with multithreaded code, and JAX is multithreaded, so this will likely lead to a deadlock.\n",
      "  self.pid = os.fork()\n",
      "                 Class     Images  Instances      Box(P          R      mAP50  mAP50-95): 100%|██████████| 47/47 [00:17<00:00,  2.72it/s]\n"
     ]
    },
    {
     "name": "stdout",
     "output_type": "stream",
     "text": [
      "                   all        750        750      0.665      0.459      0.421       0.32\n",
      "               aegypti          2          2          1          0     0.0737     0.0535\n",
      "            albopictus        317        317       0.75      0.965      0.936      0.685\n",
      "             anopheles          6          6          1          0     0.0542     0.0458\n",
      "                 culex        360        360      0.724      0.947      0.922      0.714\n",
      "              culiseta         35         35      0.206      0.543      0.275      0.225\n",
      "    japonicus/koreicus         30         30      0.313        0.3      0.267      0.198\n",
      "Speed: 0.4ms preprocess, 6.0ms inference, 0.0ms loss, 1.6ms postprocess per image\n",
      "Results saved to \u001b[1mruns/detect/train2\u001b[0m\n",
      "0.3202442457448141\n"
     ]
    }
   ],
   "source": [
    "val_results = model.val()\n",
    "print(val_results.box.map)"
   ]
  },
  {
   "cell_type": "code",
   "execution_count": 10,
   "id": "4b5d66d2",
   "metadata": {
    "execution": {
     "iopub.execute_input": "2024-12-06T10:23:30.071568Z",
     "iopub.status.busy": "2024-12-06T10:23:30.071011Z",
     "iopub.status.idle": "2024-12-06T10:23:30.077845Z",
     "shell.execute_reply": "2024-12-06T10:23:30.076776Z"
    },
    "papermill": {
     "duration": 0.42593,
     "end_time": "2024-12-06T10:23:30.079523",
     "exception": false,
     "start_time": "2024-12-06T10:23:29.653593",
     "status": "completed"
    },
    "tags": []
   },
   "outputs": [
    {
     "name": "stdout",
     "output_type": "stream",
     "text": [
      "0.4212466998129308\n"
     ]
    }
   ],
   "source": [
    "print(val_results.box.map50)"
   ]
  },
  {
   "cell_type": "code",
   "execution_count": 11,
   "id": "598c36dd",
   "metadata": {
    "execution": {
     "iopub.execute_input": "2024-12-06T10:23:30.949809Z",
     "iopub.status.busy": "2024-12-06T10:23:30.949071Z",
     "iopub.status.idle": "2024-12-06T10:27:24.076457Z",
     "shell.execute_reply": "2024-12-06T10:27:24.075713Z"
    },
    "papermill": {
     "duration": 233.580815,
     "end_time": "2024-12-06T10:27:24.078350",
     "exception": false,
     "start_time": "2024-12-06T10:23:30.497535",
     "status": "completed"
    },
    "tags": []
   },
   "outputs": [
    {
     "name": "stdout",
     "output_type": "stream",
     "text": [
      "\n",
      "image 1/525 /kaggle/input/dlp-object-detection/final_dlp_data/final_dlp_data/test/images/0031063e-716a-4080-934c-77598dc8de72.jpeg: 864x672 1 culex, 37.6ms\n",
      "image 2/525 /kaggle/input/dlp-object-detection/final_dlp_data/final_dlp_data/test/images/00fbfad7-9722-4581-831c-79faa576ea7f.jpeg: 864x672 (no detections), 9.6ms\n",
      "image 3/525 /kaggle/input/dlp-object-detection/final_dlp_data/final_dlp_data/test/images/02043b0e-3d7d-4ca4-a36f-4bf97c344264.jpeg: 864x512 1 culex, 35.3ms\n",
      "image 4/525 /kaggle/input/dlp-object-detection/final_dlp_data/final_dlp_data/test/images/0365513c-8f00-44f3-abd0-1fadde81c602.jpeg: 864x672 1 culex, 10.1ms\n",
      "image 5/525 /kaggle/input/dlp-object-detection/final_dlp_data/final_dlp_data/test/images/0365d78b-2064-4d54-b15c-994d1950479a.jpeg: 864x704 1 albopictus, 36.9ms\n",
      "image 6/525 /kaggle/input/dlp-object-detection/final_dlp_data/final_dlp_data/test/images/03d6749a-c5b3-45a3-81fa-b9c2f09eb4ba.jpeg: 768x864 1 albopictus, 33.9ms\n",
      "image 7/525 /kaggle/input/dlp-object-detection/final_dlp_data/final_dlp_data/test/images/03ef458e-8f40-4d42-811b-f3c2db667e12.jpeg: 672x864 2 albopictuss, 32.5ms\n",
      "image 8/525 /kaggle/input/dlp-object-detection/final_dlp_data/final_dlp_data/test/images/04741ad4-6e1c-416d-acd4-b352cf18ebda.jpeg: 864x672 1 culex, 10.3ms\n",
      "image 9/525 /kaggle/input/dlp-object-detection/final_dlp_data/final_dlp_data/test/images/04a95170-0348-43e1-a722-e178370e6812.jpeg: 864x672 1 culex, 9.6ms\n",
      "image 10/525 /kaggle/input/dlp-object-detection/final_dlp_data/final_dlp_data/test/images/04d4d98b-4b4d-45d1-924a-82f4c3a9ff27.jpeg: 864x672 1 culex, 9.6ms\n",
      "image 11/525 /kaggle/input/dlp-object-detection/final_dlp_data/final_dlp_data/test/images/052e0891-1048-478f-89ba-7e8812a62796.jpeg: 864x672 1 albopictus, 11.5ms\n",
      "image 12/525 /kaggle/input/dlp-object-detection/final_dlp_data/final_dlp_data/test/images/063c9e1d-cd3c-4c8b-9feb-75ef44904d59.jpeg: 864x672 1 culex, 11.1ms\n",
      "image 13/525 /kaggle/input/dlp-object-detection/final_dlp_data/final_dlp_data/test/images/065f03d7-48db-4168-8aa2-7e482c31e3b1.jpeg: 864x672 1 culex, 11.4ms\n",
      "image 14/525 /kaggle/input/dlp-object-detection/final_dlp_data/final_dlp_data/test/images/068f7c9d-6d65-438f-9e89-1dae3ed4f7ba.jpeg: 864x832 1 albopictus, 58.7ms\n",
      "image 15/525 /kaggle/input/dlp-object-detection/final_dlp_data/final_dlp_data/test/images/069c0ed4-4f81-40f4-98d0-dfc4553ff656.jpeg: 864x672 1 albopictus, 11.5ms\n",
      "image 16/525 /kaggle/input/dlp-object-detection/final_dlp_data/final_dlp_data/test/images/07c395a6-a476-4d9e-acc4-0fc4640faefe.jpeg: 672x864 1 albopictus, 12.0ms\n",
      "image 17/525 /kaggle/input/dlp-object-detection/final_dlp_data/final_dlp_data/test/images/07e5213c-e31d-4967-a5a6-7f347457771d.jpeg: 864x416 1 culex, 57.3ms\n",
      "image 18/525 /kaggle/input/dlp-object-detection/final_dlp_data/final_dlp_data/test/images/081e4b2a-6f6e-46c8-9dc0-65c5372d9eb5.jpeg: 672x864 1 albopictus, 10.1ms\n",
      "image 19/525 /kaggle/input/dlp-object-detection/final_dlp_data/final_dlp_data/test/images/0870d9f8-aa65-4eb2-be7c-29ddcf056ae8.jpeg: 672x864 1 albopictus, 9.1ms\n",
      "image 20/525 /kaggle/input/dlp-object-detection/final_dlp_data/final_dlp_data/test/images/08f795b9-a868-4cd5-a32f-1ffef6efa2ef.jpeg: 864x768 4 albopictuss, 1 culex, 34.4ms\n",
      "image 21/525 /kaggle/input/dlp-object-detection/final_dlp_data/final_dlp_data/test/images/09f2fb24-90fa-4667-8ff0-2837d9e2e97b.jpeg: 864x768 1 albopictus, 10.5ms\n",
      "image 22/525 /kaggle/input/dlp-object-detection/final_dlp_data/final_dlp_data/test/images/0a9319b8-070b-435a-b3b5-8347ab52c240.jpeg: 864x672 1 albopictus, 12.7ms\n",
      "image 23/525 /kaggle/input/dlp-object-detection/final_dlp_data/final_dlp_data/test/images/0ab78764-6857-491b-99d1-f4567efd7f32.jpeg: 864x736 1 albopictus, 61.6ms\n",
      "image 24/525 /kaggle/input/dlp-object-detection/final_dlp_data/final_dlp_data/test/images/0ad31287-d62f-4a96-8e21-6d2773797684.jpeg: 672x864 1 culex, 11.5ms\n",
      "image 25/525 /kaggle/input/dlp-object-detection/final_dlp_data/final_dlp_data/test/images/0d068c1a-fc7d-4797-abae-8afc08be660b.jpeg: 672x864 1 culex, 12.6ms\n",
      "image 26/525 /kaggle/input/dlp-object-detection/final_dlp_data/final_dlp_data/test/images/0d35ce5f-d723-41ab-b9e5-9ee8c25593ed.jpeg: 576x864 1 albopictus, 59.4ms\n",
      "image 27/525 /kaggle/input/dlp-object-detection/final_dlp_data/final_dlp_data/test/images/0d7fda56-9014-4d0e-9802-993925febec0.jpeg: 864x672 1 albopictus, 12.5ms\n",
      "image 28/525 /kaggle/input/dlp-object-detection/final_dlp_data/final_dlp_data/test/images/0df08feb-bd58-4288-ba02-c42bb4f9ff2d.jpeg: 864x512 1 culex, 12.3ms\n",
      "image 29/525 /kaggle/input/dlp-object-detection/final_dlp_data/final_dlp_data/test/images/0e43f1b1-7bae-4ef7-90da-c192a17d1805.jpeg: 864x672 1 albopictus, 10.4ms\n",
      "image 30/525 /kaggle/input/dlp-object-detection/final_dlp_data/final_dlp_data/test/images/0e99a3d4-6674-44fe-9505-8009db9dfe8e.jpeg: 864x672 1 culex, 9.5ms\n",
      "image 31/525 /kaggle/input/dlp-object-detection/final_dlp_data/final_dlp_data/test/images/0ec05b33-b16c-4e23-86c1-538bb037efeb.jpeg: 864x672 1 albopictus, 9.6ms\n",
      "image 32/525 /kaggle/input/dlp-object-detection/final_dlp_data/final_dlp_data/test/images/0f438ab8-ab3f-4726-9f5c-5c548b4a77e1.jpeg: 512x864 1 culex, 36.2ms\n",
      "image 33/525 /kaggle/input/dlp-object-detection/final_dlp_data/final_dlp_data/test/images/0f663f9c-0068-4764-9aac-e29a80346527.jpeg: 864x512 1 albopictus, 8.4ms\n",
      "image 34/525 /kaggle/input/dlp-object-detection/final_dlp_data/final_dlp_data/test/images/0f66ea3e-dba5-4424-9ed4-23c5c9419d13.jpeg: 864x672 1 albopictus, 10.3ms\n",
      "image 35/525 /kaggle/input/dlp-object-detection/final_dlp_data/final_dlp_data/test/images/10b288b8-b1fc-4075-bf0c-d0c84baffe82.jpeg: 864x672 1 culex, 9.5ms\n",
      "image 36/525 /kaggle/input/dlp-object-detection/final_dlp_data/final_dlp_data/test/images/10fcd07a-ec1a-48d6-b4ba-8891347d4232.jpeg: 864x672 1 albopictus, 9.5ms\n",
      "image 37/525 /kaggle/input/dlp-object-detection/final_dlp_data/final_dlp_data/test/images/11924d04-69fe-469d-8d1c-119bc0f0b94f.jpeg: 864x672 1 culex, 9.6ms\n",
      "image 38/525 /kaggle/input/dlp-object-detection/final_dlp_data/final_dlp_data/test/images/120dbc2e-d2f2-4e7f-969c-49055306eece.jpeg: 864x672 1 culex, 9.5ms\n",
      "image 39/525 /kaggle/input/dlp-object-detection/final_dlp_data/final_dlp_data/test/images/12822b54-bb03-4806-968b-b7ac6fceda48.jpeg: 864x672 1 culex, 9.5ms\n",
      "image 40/525 /kaggle/input/dlp-object-detection/final_dlp_data/final_dlp_data/test/images/12d6142d-705a-4879-aabd-d2df4b9e8f34.jpeg: 672x864 1 albopictus, 10.0ms\n",
      "image 41/525 /kaggle/input/dlp-object-detection/final_dlp_data/final_dlp_data/test/images/1357fe5f-964e-4f54-b678-accc543f935d.jpeg: 864x672 1 culex, 10.5ms\n",
      "image 42/525 /kaggle/input/dlp-object-detection/final_dlp_data/final_dlp_data/test/images/13ed7625-574f-418a-baef-53f3513cf109.jpeg: 864x672 1 culex, 9.5ms\n",
      "image 43/525 /kaggle/input/dlp-object-detection/final_dlp_data/final_dlp_data/test/images/14270465-8cd2-4e76-9906-9a8aed21bf40.jpeg: 864x672 1 culex, 9.6ms\n",
      "image 44/525 /kaggle/input/dlp-object-detection/final_dlp_data/final_dlp_data/test/images/15b6fb8d-8149-45be-b495-2bb4069a3aa7.jpeg: 864x672 1 culex, 9.5ms\n",
      "image 45/525 /kaggle/input/dlp-object-detection/final_dlp_data/final_dlp_data/test/images/167e2b05-88ed-4f91-b3f1-43bb54cf92bd.jpeg: 864x672 1 culex, 9.6ms\n",
      "image 46/525 /kaggle/input/dlp-object-detection/final_dlp_data/final_dlp_data/test/images/16dbbc39-fcb6-498e-963f-d3807fcc3cec.jpeg: 864x672 1 albopictus, 9.5ms\n",
      "image 47/525 /kaggle/input/dlp-object-detection/final_dlp_data/final_dlp_data/test/images/1728aba6-2d30-4ffb-aa00-ad52091f10e5.jpeg: 512x864 1 culex, 8.1ms\n",
      "image 48/525 /kaggle/input/dlp-object-detection/final_dlp_data/final_dlp_data/test/images/175a68df-ee71-4602-b6f4-7308e9f1f18f.jpeg: 864x672 1 albopictus, 1 culex, 10.5ms\n",
      "image 49/525 /kaggle/input/dlp-object-detection/final_dlp_data/final_dlp_data/test/images/17b46dcc-17c3-478f-8d80-8fab9dac1a6d.jpeg: 864x608 1 culex, 40.7ms\n",
      "image 50/525 /kaggle/input/dlp-object-detection/final_dlp_data/final_dlp_data/test/images/1849fedc-b986-438d-af3f-112bc1199f44.jpeg: 864x512 1 culex, 8.4ms\n",
      "image 51/525 /kaggle/input/dlp-object-detection/final_dlp_data/final_dlp_data/test/images/187a673d-d0fb-4dd8-89fd-ad955559859a.jpeg: 416x864 2 culexs, 33.9ms\n",
      "image 52/525 /kaggle/input/dlp-object-detection/final_dlp_data/final_dlp_data/test/images/18848e68-9d73-4d5e-9724-9de3de4840a4.jpeg: 864x416 1 culex, 7.9ms\n",
      "image 53/525 /kaggle/input/dlp-object-detection/final_dlp_data/final_dlp_data/test/images/18fb9a65-c548-44ba-af86-2f220a1a5512.jpeg: 864x512 1 albopictus, 8.2ms\n",
      "image 54/525 /kaggle/input/dlp-object-detection/final_dlp_data/final_dlp_data/test/images/19401811-2635-4492-909c-312ae0f62429.jpeg: 800x864 1 albopictus, 34.3ms\n",
      "image 55/525 /kaggle/input/dlp-object-detection/final_dlp_data/final_dlp_data/test/images/195960db-ad39-41a8-b708-f1080872ed04.jpeg: 864x512 (no detections), 8.2ms\n",
      "image 56/525 /kaggle/input/dlp-object-detection/final_dlp_data/final_dlp_data/test/images/1a5371f2-de9b-4742-b325-b90d6907d64d.jpeg: 864x416 1 culex, 8.0ms\n",
      "image 57/525 /kaggle/input/dlp-object-detection/final_dlp_data/final_dlp_data/test/images/1a90d16f-9373-420d-9928-ab632218ae4c.jpeg: 704x864 1 albopictus, 34.5ms\n",
      "image 58/525 /kaggle/input/dlp-object-detection/final_dlp_data/final_dlp_data/test/images/1ab992bf-6a76-4fd4-b587-8461ab81ef2a.jpeg: 672x864 1 culex, 9.7ms\n",
      "image 59/525 /kaggle/input/dlp-object-detection/final_dlp_data/final_dlp_data/test/images/1ac5b5bb-b615-4013-95c8-c39a2c130cf8.jpeg: 448x864 (no detections), 35.4ms\n",
      "image 60/525 /kaggle/input/dlp-object-detection/final_dlp_data/final_dlp_data/test/images/1b8a232b-60e3-4756-b07f-5c6436f4f3a4.jpeg: 864x672 1 albopictus, 10.3ms\n",
      "image 61/525 /kaggle/input/dlp-object-detection/final_dlp_data/final_dlp_data/test/images/1bec346b-0eee-42d5-8ce5-760b7039e2e3.jpeg: 864x864 1 albopictus, 12.0ms\n",
      "image 62/525 /kaggle/input/dlp-object-detection/final_dlp_data/final_dlp_data/test/images/1c60737f-ce88-4208-a51a-4f02c3abed0b.jpeg: 864x672 1 albopictus, 10.3ms\n",
      "image 63/525 /kaggle/input/dlp-object-detection/final_dlp_data/final_dlp_data/test/images/1ccf5f10-bee6-4047-b750-301b329b04e1.jpeg: 640x864 1 albopictus, 35.9ms\n",
      "image 64/525 /kaggle/input/dlp-object-detection/final_dlp_data/final_dlp_data/test/images/1e908540-19be-438c-b28f-b97f4734ac87.jpeg: 512x864 1 culex, 8.1ms\n",
      "image 65/525 /kaggle/input/dlp-object-detection/final_dlp_data/final_dlp_data/test/images/1ec71cc4-7da7-49bf-aca8-9ef91d3b786f.jpeg: 864x544 1 albopictus, 34.9ms\n",
      "image 66/525 /kaggle/input/dlp-object-detection/final_dlp_data/final_dlp_data/test/images/20b42034-a0e5-4960-b74e-7e5fb8dfff96.jpeg: 512x864 1 albopictus, 8.3ms\n",
      "image 67/525 /kaggle/input/dlp-object-detection/final_dlp_data/final_dlp_data/test/images/221c81b4-db24-4c3d-83ce-1803b3a9d473.jpeg: 640x864 1 culex, 9.0ms\n",
      "image 68/525 /kaggle/input/dlp-object-detection/final_dlp_data/final_dlp_data/test/images/223f4665-5350-437e-8d0d-13e4b1ad21bc.jpeg: 576x864 4 culexs, 8.7ms\n",
      "image 69/525 /kaggle/input/dlp-object-detection/final_dlp_data/final_dlp_data/test/images/23d6a2e2-03f7-4ca7-b998-4c08047a11b1.jpeg: 448x864 (no detections), 7.9ms\n",
      "image 70/525 /kaggle/input/dlp-object-detection/final_dlp_data/final_dlp_data/test/images/2406e3a6-505e-4674-b4f6-d73f0543e1d5.jpeg: 864x672 1 albopictus, 10.3ms\n",
      "image 71/525 /kaggle/input/dlp-object-detection/final_dlp_data/final_dlp_data/test/images/2643a546-c67c-4a0b-838d-d05bddc89209.jpeg: 864x512 1 culex, 8.3ms\n",
      "image 72/525 /kaggle/input/dlp-object-detection/final_dlp_data/final_dlp_data/test/images/274d9771-b571-4d6b-9755-b2c7fbe597c0.jpeg: 864x512 1 culex, 7.5ms\n",
      "image 73/525 /kaggle/input/dlp-object-detection/final_dlp_data/final_dlp_data/test/images/27a375a7-e809-4587-93f9-68e9762b8509.jpeg: 864x672 1 culex, 10.1ms\n",
      "image 74/525 /kaggle/input/dlp-object-detection/final_dlp_data/final_dlp_data/test/images/27d2800b-4eb7-4312-a058-37d227c117aa.jpeg: 864x672 1 culex, 9.5ms\n",
      "image 75/525 /kaggle/input/dlp-object-detection/final_dlp_data/final_dlp_data/test/images/27e7ca2e-e27c-44e3-969a-8e593317d6cd.jpeg: 864x864 1 albopictus, 11.9ms\n",
      "image 76/525 /kaggle/input/dlp-object-detection/final_dlp_data/final_dlp_data/test/images/2804bbd0-add6-4a79-abb8-1edcbda9d338.jpeg: 864x416 1 albopictus, 7.9ms\n",
      "image 77/525 /kaggle/input/dlp-object-detection/final_dlp_data/final_dlp_data/test/images/28964fc0-e568-43ee-9e22-fd6ae7ee7dd9.jpeg: 864x672 1 albopictus, 10.1ms\n",
      "image 78/525 /kaggle/input/dlp-object-detection/final_dlp_data/final_dlp_data/test/images/28bf1f50-2ab1-4d5a-b682-0905835a142c.jpeg: 864x672 1 culex, 9.5ms\n",
      "image 79/525 /kaggle/input/dlp-object-detection/final_dlp_data/final_dlp_data/test/images/296eeeb2-d677-48b6-8cbe-34d15593d680.jpeg: 864x416 1 culex, 7.9ms\n",
      "image 80/525 /kaggle/input/dlp-object-detection/final_dlp_data/final_dlp_data/test/images/2a651700-0df3-4295-b223-3e53ccf2cc8f.jpeg: 864x672 1 albopictus, 10.2ms\n",
      "image 81/525 /kaggle/input/dlp-object-detection/final_dlp_data/final_dlp_data/test/images/2b5d0dce-76bd-4a38-9c78-f6f7db5e78e0.jpeg: 864x672 1 albopictus, 9.6ms\n",
      "image 82/525 /kaggle/input/dlp-object-detection/final_dlp_data/final_dlp_data/test/images/2b858873-91a7-4e7f-8dd3-7f7345a9b04c.jpeg: 864x512 2 albopictuss, 8.7ms\n",
      "image 83/525 /kaggle/input/dlp-object-detection/final_dlp_data/final_dlp_data/test/images/2cac172d-24a4-4ac0-ad12-51e1c45d58c7.jpeg: 864x672 1 albopictus, 10.3ms\n",
      "image 84/525 /kaggle/input/dlp-object-detection/final_dlp_data/final_dlp_data/test/images/2cea3b1b-5c05-46dc-844e-1e722a0234a6.jpeg: 864x672 1 albopictus, 9.9ms\n",
      "image 85/525 /kaggle/input/dlp-object-detection/final_dlp_data/final_dlp_data/test/images/2cf9eafa-e9c8-4c6d-8dec-486f2361d324.jpeg: 864x672 1 culex, 9.5ms\n",
      "image 86/525 /kaggle/input/dlp-object-detection/final_dlp_data/final_dlp_data/test/images/2d4c6b55-1c38-4334-b2f5-b3e3ef7de422.jpeg: 864x672 1 culex, 9.5ms\n",
      "image 87/525 /kaggle/input/dlp-object-detection/final_dlp_data/final_dlp_data/test/images/2d5f1c98-be09-41b1-a425-5630dd807059.jpeg: 704x864 1 albopictus, 10.2ms\n",
      "image 88/525 /kaggle/input/dlp-object-detection/final_dlp_data/final_dlp_data/test/images/2eb12e3c-65f7-4527-bc6d-460c4bee21f0.jpeg: 416x864 (no detections), 7.8ms\n",
      "image 89/525 /kaggle/input/dlp-object-detection/final_dlp_data/final_dlp_data/test/images/2eb76dd5-f678-4546-b65c-a0287ee384db.jpeg: 864x672 2 culexs, 10.1ms\n",
      "image 90/525 /kaggle/input/dlp-object-detection/final_dlp_data/final_dlp_data/test/images/2eb9cea6-460d-4abd-866f-9815e36b4fb8.jpeg: 864x672 1 culex, 9.5ms\n",
      "image 91/525 /kaggle/input/dlp-object-detection/final_dlp_data/final_dlp_data/test/images/2f79981d-86c7-475c-a192-9f4bda65d491.jpeg: 864x512 1 albopictus, 8.4ms\n",
      "image 92/525 /kaggle/input/dlp-object-detection/final_dlp_data/final_dlp_data/test/images/2ff9ef9d-4c6e-4056-b98b-dded3840db1b.jpeg: 864x672 1 albopictus, 10.2ms\n",
      "image 93/525 /kaggle/input/dlp-object-detection/final_dlp_data/final_dlp_data/test/images/304f1fec-2a7e-450a-bc0f-e479bf295c3a.jpeg: 864x672 1 albopictus, 9.6ms\n",
      "image 94/525 /kaggle/input/dlp-object-detection/final_dlp_data/final_dlp_data/test/images/305ac4a1-c740-4efb-9406-52061c75dcfa.jpeg: 864x672 1 culex, 9.5ms\n",
      "image 95/525 /kaggle/input/dlp-object-detection/final_dlp_data/final_dlp_data/test/images/3067cee3-cbcc-4329-875b-aa5fc4bb2e38.jpeg: 864x672 1 culex, 9.5ms\n",
      "image 96/525 /kaggle/input/dlp-object-detection/final_dlp_data/final_dlp_data/test/images/30b67cce-8d9b-4032-9054-702236596cd3.jpeg: 672x864 1 culex, 10.0ms\n",
      "image 97/525 /kaggle/input/dlp-object-detection/final_dlp_data/final_dlp_data/test/images/31080987-64d1-4d44-9195-7cfe80fdc324.jpeg: 864x672 1 culex, 10.3ms\n",
      "image 98/525 /kaggle/input/dlp-object-detection/final_dlp_data/final_dlp_data/test/images/3125c2a0-a875-4530-8f25-3296be3d818e.jpeg: 768x864 1 culex, 11.7ms\n",
      "image 99/525 /kaggle/input/dlp-object-detection/final_dlp_data/final_dlp_data/test/images/32b9370c-496d-431d-9531-89567b518f25.jpeg: 672x864 1 albopictus, 10.0ms\n",
      "image 100/525 /kaggle/input/dlp-object-detection/final_dlp_data/final_dlp_data/test/images/32c5ce62-8de1-4ba3-af8e-dc7fe0b7456b.jpeg: 864x672 1 culex, 10.6ms\n",
      "image 101/525 /kaggle/input/dlp-object-detection/final_dlp_data/final_dlp_data/test/images/32e570b4-161f-407f-9512-a5eff43452d3.jpeg: 672x864 1 culex, 9.8ms\n",
      "image 102/525 /kaggle/input/dlp-object-detection/final_dlp_data/final_dlp_data/test/images/32f5ca5e-f4b7-47af-8f23-db5a804ed8ed.jpeg: 864x672 1 culex, 10.3ms\n",
      "image 103/525 /kaggle/input/dlp-object-detection/final_dlp_data/final_dlp_data/test/images/3364b34c-b5b7-40f3-8a5e-2fe38af3dc4f.jpeg: 736x864 1 albopictus, 34.9ms\n",
      "image 104/525 /kaggle/input/dlp-object-detection/final_dlp_data/final_dlp_data/test/images/344e74b5-f0b3-46cd-a082-97238e2cda5c.jpeg: 864x672 1 albopictus, 10.2ms\n",
      "image 105/525 /kaggle/input/dlp-object-detection/final_dlp_data/final_dlp_data/test/images/34708894-ff23-4209-bd6f-bcd29dff5415.jpeg: 864x672 1 albopictus, 9.6ms\n",
      "image 106/525 /kaggle/input/dlp-object-detection/final_dlp_data/final_dlp_data/test/images/348a430e-a217-41a3-b1ea-0353e43e0733.jpeg: 864x672 1 culex, 9.6ms\n",
      "image 107/525 /kaggle/input/dlp-object-detection/final_dlp_data/final_dlp_data/test/images/34a0c0df-b22b-4f9b-b111-8fc375fad2f5.jpeg: 864x672 1 culex, 9.6ms\n",
      "image 108/525 /kaggle/input/dlp-object-detection/final_dlp_data/final_dlp_data/test/images/360213fb-1f44-4d6e-9e71-6a802c7a74b7.jpeg: 864x672 1 culex, 9.6ms\n",
      "image 109/525 /kaggle/input/dlp-object-detection/final_dlp_data/final_dlp_data/test/images/36046872-0f7c-41a9-b6f1-2109926f8509.jpeg: 864x672 2 albopictuss, 1 culex, 9.6ms\n",
      "image 110/525 /kaggle/input/dlp-object-detection/final_dlp_data/final_dlp_data/test/images/3637932c-dad1-4bb1-a7da-a4425f05c991.jpeg: 864x512 1 culex, 9.1ms\n",
      "image 111/525 /kaggle/input/dlp-object-detection/final_dlp_data/final_dlp_data/test/images/364f0426-aed0-4032-ae30-b0d37446bde6.jpeg: 864x512 1 culex, 7.5ms\n",
      "image 112/525 /kaggle/input/dlp-object-detection/final_dlp_data/final_dlp_data/test/images/373cb153-8553-44cd-bffb-dc39bdf9adf6.jpeg: 864x512 1 albopictus, 7.6ms\n",
      "image 113/525 /kaggle/input/dlp-object-detection/final_dlp_data/final_dlp_data/test/images/378f79e4-6ca0-4c79-a56d-54b1b7f7e9e2.jpeg: 864x672 1 culex, 10.3ms\n",
      "image 114/525 /kaggle/input/dlp-object-detection/final_dlp_data/final_dlp_data/test/images/38266f91-a7fb-475b-ae22-e2c6244dd28a.jpeg: 512x864 1 albopictus, 8.3ms\n",
      "image 115/525 /kaggle/input/dlp-object-detection/final_dlp_data/final_dlp_data/test/images/39449d4f-af0c-4233-9f6a-229b89669aaf.jpeg: 864x640 1 culex, 35.9ms\n",
      "image 116/525 /kaggle/input/dlp-object-detection/final_dlp_data/final_dlp_data/test/images/3a1676d1-ec24-4e9e-8fb5-d306b6dccfa2.jpeg: 864x672 1 culex, 10.8ms\n",
      "image 117/525 /kaggle/input/dlp-object-detection/final_dlp_data/final_dlp_data/test/images/3a3a7aa7-3390-4481-812e-e11455adde48.jpeg: 864x672 1 albopictus, 9.5ms\n",
      "image 118/525 /kaggle/input/dlp-object-detection/final_dlp_data/final_dlp_data/test/images/3a76977b-bd5c-4118-8c13-25894bbc86c5.jpeg: 864x672 1 culex, 9.5ms\n",
      "image 119/525 /kaggle/input/dlp-object-detection/final_dlp_data/final_dlp_data/test/images/3a918cb9-770c-4e13-8201-90858c25c7d0.jpeg: 864x672 1 albopictus, 9.6ms\n",
      "image 120/525 /kaggle/input/dlp-object-detection/final_dlp_data/final_dlp_data/test/images/3b4a1715-45fe-4933-8176-144cf59d3c97.jpeg: 864x512 1 albopictus, 8.3ms\n",
      "image 121/525 /kaggle/input/dlp-object-detection/final_dlp_data/final_dlp_data/test/images/3c1c305a-0628-4c6d-990b-ba7fd3d63ee3.jpeg: 864x672 (no detections), 10.3ms\n",
      "image 122/525 /kaggle/input/dlp-object-detection/final_dlp_data/final_dlp_data/test/images/3c6eed99-b756-42b3-90a3-4314b448d953.jpeg: 864x672 1 albopictus, 9.5ms\n",
      "image 123/525 /kaggle/input/dlp-object-detection/final_dlp_data/final_dlp_data/test/images/3c700781-b669-40fa-9dc9-20e85e37590f.jpeg: 864x672 1 culex, 9.5ms\n",
      "image 124/525 /kaggle/input/dlp-object-detection/final_dlp_data/final_dlp_data/test/images/3d19622e-bd5f-4d80-b959-c73a2b02595a.jpeg: 864x672 1 albopictus, 9.5ms\n",
      "image 125/525 /kaggle/input/dlp-object-detection/final_dlp_data/final_dlp_data/test/images/3d7179d9-2959-4586-9a2e-5b67b087ff05.jpeg: 864x672 1 culex, 9.5ms\n",
      "image 126/525 /kaggle/input/dlp-object-detection/final_dlp_data/final_dlp_data/test/images/3d98f9a1-fac7-4aeb-a528-3b0fdb4479b3.jpeg: 416x864 1 culex, 7.8ms\n",
      "image 127/525 /kaggle/input/dlp-object-detection/final_dlp_data/final_dlp_data/test/images/3e3f7ba4-1a46-4edf-82db-2ebe175ff8e7.jpeg: 864x672 1 culex, 10.1ms\n",
      "image 128/525 /kaggle/input/dlp-object-detection/final_dlp_data/final_dlp_data/test/images/3e4d4fc1-1b46-461b-86cb-abf735ec7257.jpeg: 864x672 1 albopictus, 9.6ms\n",
      "image 129/525 /kaggle/input/dlp-object-detection/final_dlp_data/final_dlp_data/test/images/3f9877b2-983c-45a2-9784-64a2e2f9607e.jpeg: 864x416 1 culex, 8.0ms\n",
      "image 130/525 /kaggle/input/dlp-object-detection/final_dlp_data/final_dlp_data/test/images/3fcace3b-254e-4e79-b3af-b578c04db626.jpeg: 864x448 1 culex, 33.7ms\n",
      "image 131/525 /kaggle/input/dlp-object-detection/final_dlp_data/final_dlp_data/test/images/4052f632-17c0-4e38-b323-7ee17ff2e2e8.jpeg: 864x672 1 culex, 10.2ms\n",
      "image 132/525 /kaggle/input/dlp-object-detection/final_dlp_data/final_dlp_data/test/images/40b987b5-63a9-4e1c-b613-781544bbb23a.jpeg: 864x864 1 albopictus, 12.0ms\n",
      "image 133/525 /kaggle/input/dlp-object-detection/final_dlp_data/final_dlp_data/test/images/415215a5-04b5-460f-a204-93c418e93754.jpeg: 864x672 1 albopictus, 10.2ms\n",
      "image 134/525 /kaggle/input/dlp-object-detection/final_dlp_data/final_dlp_data/test/images/416adbc5-427d-4fd1-9beb-507ec140487e.jpeg: 864x672 1 culex, 9.5ms\n",
      "image 135/525 /kaggle/input/dlp-object-detection/final_dlp_data/final_dlp_data/test/images/417a6ab9-97ff-4d0a-8631-2bdf1ab1e09e.jpeg: 864x864 1 culex, 11.8ms\n",
      "image 136/525 /kaggle/input/dlp-object-detection/final_dlp_data/final_dlp_data/test/images/4287618a-0bc0-4c66-b973-367cf532b648.jpeg: 672x864 1 albopictus, 10.0ms\n",
      "image 137/525 /kaggle/input/dlp-object-detection/final_dlp_data/final_dlp_data/test/images/432b6550-46ac-49ad-a05d-6f091e6f09c1.jpeg: 864x672 (no detections), 10.3ms\n",
      "image 138/525 /kaggle/input/dlp-object-detection/final_dlp_data/final_dlp_data/test/images/4386e1f7-6626-49a5-956b-d1ccecc8f988.jpeg: 864x416 1 culex, 7.9ms\n",
      "image 139/525 /kaggle/input/dlp-object-detection/final_dlp_data/final_dlp_data/test/images/44bf3fe6-4102-4135-8082-b2082d53d928.jpeg: 864x672 1 albopictus, 10.3ms\n",
      "image 140/525 /kaggle/input/dlp-object-detection/final_dlp_data/final_dlp_data/test/images/450457f6-745f-4ad1-8110-fab3e7249e96.jpeg: 864x672 1 albopictus, 9.5ms\n",
      "image 141/525 /kaggle/input/dlp-object-detection/final_dlp_data/final_dlp_data/test/images/452562b5-5dce-43c3-9ce6-b3b74dde6be9.jpeg: 544x864 1 albopictus, 34.5ms\n",
      "image 142/525 /kaggle/input/dlp-object-detection/final_dlp_data/final_dlp_data/test/images/453404c8-f81c-41e5-a610-3df944658133.jpeg: 864x800 1 albopictus, 34.3ms\n",
      "image 143/525 /kaggle/input/dlp-object-detection/final_dlp_data/final_dlp_data/test/images/460d8d46-2f01-4c0d-8f18-49dadb309388.jpeg: 864x864 1 albopictus, 12.3ms\n",
      "image 144/525 /kaggle/input/dlp-object-detection/final_dlp_data/final_dlp_data/test/images/4633dfdf-2f2c-4834-bd16-ef332a1c5820.jpeg: 864x672 1 albopictus, 13.1ms\n",
      "image 145/525 /kaggle/input/dlp-object-detection/final_dlp_data/final_dlp_data/test/images/4803f0e6-7709-4dae-9786-4b3b5ce26396.jpeg: 864x864 1 culex, 11.9ms\n",
      "image 146/525 /kaggle/input/dlp-object-detection/final_dlp_data/final_dlp_data/test/images/48141de8-db9f-481f-b870-4cf25952b827.jpeg: 864x672 1 culex, 10.4ms\n",
      "image 147/525 /kaggle/input/dlp-object-detection/final_dlp_data/final_dlp_data/test/images/489a2ce5-b060-4f07-a716-cf243b8b409c.jpeg: 864x672 1 albopictus, 9.6ms\n",
      "image 148/525 /kaggle/input/dlp-object-detection/final_dlp_data/final_dlp_data/test/images/48f73386-76cb-44fa-966a-c550bf39badb.jpeg: 864x672 1 albopictus, 9.6ms\n",
      "image 149/525 /kaggle/input/dlp-object-detection/final_dlp_data/final_dlp_data/test/images/490cc534-c39e-42c1-9598-e5fb794723b1.jpeg: 864x672 1 culex, 10.7ms\n",
      "image 150/525 /kaggle/input/dlp-object-detection/final_dlp_data/final_dlp_data/test/images/491456e7-d4a4-4c25-9b84-7dbdbe8f2051.jpeg: 864x672 1 culex, 9.6ms\n",
      "image 151/525 /kaggle/input/dlp-object-detection/final_dlp_data/final_dlp_data/test/images/492679ec-9e72-4d00-9e67-9ff361d140f1.jpeg: 864x416 2 culexs, 8.0ms\n",
      "image 152/525 /kaggle/input/dlp-object-detection/final_dlp_data/final_dlp_data/test/images/4aa8f609-59de-4c09-8bd7-5a8c54ac8446.jpeg: 864x512 1 albopictus, 8.3ms\n",
      "image 153/525 /kaggle/input/dlp-object-detection/final_dlp_data/final_dlp_data/test/images/4b31a9ae-50be-455a-b8fd-e1a7a870850f.jpeg: 864x672 1 culex, 10.3ms\n",
      "image 154/525 /kaggle/input/dlp-object-detection/final_dlp_data/final_dlp_data/test/images/4b6b63fc-43c3-4428-8f41-2a6ea7eec91a.jpeg: 864x672 1 culex, 9.5ms\n",
      "image 155/525 /kaggle/input/dlp-object-detection/final_dlp_data/final_dlp_data/test/images/4cd51aff-5f1c-4b1a-826c-4de004f833a9.jpeg: 864x512 1 albopictus, 8.2ms\n",
      "image 156/525 /kaggle/input/dlp-object-detection/final_dlp_data/final_dlp_data/test/images/4d87f7ed-9433-484f-82cd-106993152b53.jpeg: 864x672 1 albopictus, 10.2ms\n",
      "image 157/525 /kaggle/input/dlp-object-detection/final_dlp_data/final_dlp_data/test/images/4debb54d-274f-41bc-b2a8-ccf75bbceea5.jpeg: 864x448 1 culex, 8.0ms\n",
      "image 158/525 /kaggle/input/dlp-object-detection/final_dlp_data/final_dlp_data/test/images/4e216c54-1daa-4517-91a8-8bf005cc6129.jpeg: 864x672 1 culex, 10.7ms\n",
      "image 159/525 /kaggle/input/dlp-object-detection/final_dlp_data/final_dlp_data/test/images/4e63d8b6-758b-4349-bead-8c21e240d51a.jpeg: 864x672 1 culex, 9.6ms\n",
      "image 160/525 /kaggle/input/dlp-object-detection/final_dlp_data/final_dlp_data/test/images/4ed11a01-ca18-4009-9e8b-4c29c7d9c4d7.jpeg: 864x448 1 albopictus, 8.1ms\n",
      "image 161/525 /kaggle/input/dlp-object-detection/final_dlp_data/final_dlp_data/test/images/4fb111a0-27ed-4ebb-b5a4-3fa47b80bfc9.jpeg: 416x864 1 culex, 7.8ms\n",
      "image 162/525 /kaggle/input/dlp-object-detection/final_dlp_data/final_dlp_data/test/images/53278c35-1c3a-40dd-91f1-7ef33b32eeb8.jpeg: 864x672 1 albopictus, 10.3ms\n",
      "image 163/525 /kaggle/input/dlp-object-detection/final_dlp_data/final_dlp_data/test/images/532e7a50-448f-4df3-beb7-899766572da3.jpeg: 672x864 1 culex, 10.1ms\n",
      "image 164/525 /kaggle/input/dlp-object-detection/final_dlp_data/final_dlp_data/test/images/5385a6f3-0f06-4d0c-a1d7-7ced89007a5a.jpeg: 608x864 1 culex, 34.7ms\n",
      "image 165/525 /kaggle/input/dlp-object-detection/final_dlp_data/final_dlp_data/test/images/539d9c85-2371-4381-afc4-949ecb3195f1.jpeg: 864x672 1 culex, 13.6ms\n",
      "image 166/525 /kaggle/input/dlp-object-detection/final_dlp_data/final_dlp_data/test/images/53a35a8d-2c22-464f-8da5-df7db1116cef.jpeg: 864x416 1 albopictus, 12.3ms\n",
      "image 167/525 /kaggle/input/dlp-object-detection/final_dlp_data/final_dlp_data/test/images/5477657a-88d8-47fe-87f5-663ed25f1237.jpeg: 512x864 1 albopictus, 11.7ms\n",
      "image 168/525 /kaggle/input/dlp-object-detection/final_dlp_data/final_dlp_data/test/images/55497fb7-1f4c-4514-8d95-d17155be7403.jpeg: 672x864 1 albopictus, 11.9ms\n",
      "image 169/525 /kaggle/input/dlp-object-detection/final_dlp_data/final_dlp_data/test/images/565bed72-bf54-401d-bc0e-af28b0bb6129.jpeg: 512x864 1 culex, 11.3ms\n",
      "image 170/525 /kaggle/input/dlp-object-detection/final_dlp_data/final_dlp_data/test/images/56cbfed1-4ad5-449e-ab34-409fc5a916b4.jpeg: 864x672 1 culex, 12.1ms\n",
      "image 171/525 /kaggle/input/dlp-object-detection/final_dlp_data/final_dlp_data/test/images/5772f2ed-882c-46a2-809a-f144cb0568bf.jpeg: 864x672 1 albopictus, 12.2ms\n",
      "image 172/525 /kaggle/input/dlp-object-detection/final_dlp_data/final_dlp_data/test/images/58d163b3-fb4b-4a50-acd3-c116b3aa6fc9.jpeg: 672x864 1 albopictus, 11.6ms\n",
      "image 173/525 /kaggle/input/dlp-object-detection/final_dlp_data/final_dlp_data/test/images/592ac19b-3055-4944-b0ac-fd35ea1b3f1e.jpeg: 864x448 1 culex, 8.2ms\n",
      "image 174/525 /kaggle/input/dlp-object-detection/final_dlp_data/final_dlp_data/test/images/5b11c1ef-9296-47b0-b7a0-e56ac17c12dc.jpeg: 864x672 1 culex, 10.3ms\n",
      "image 175/525 /kaggle/input/dlp-object-detection/final_dlp_data/final_dlp_data/test/images/5ba7aef5-5597-4ecd-afbb-fa3bef57dfde.jpeg: 864x672 1 albopictus, 9.6ms\n",
      "image 176/525 /kaggle/input/dlp-object-detection/final_dlp_data/final_dlp_data/test/images/5bf2ded9-068d-4f0f-beb1-1af0ac2457e4.jpeg: 864x672 1 culex, 9.6ms\n",
      "image 177/525 /kaggle/input/dlp-object-detection/final_dlp_data/final_dlp_data/test/images/5c53c448-8738-4094-aeb8-86d5ed33b2cb.jpeg: 672x864 1 culex, 10.0ms\n",
      "image 178/525 /kaggle/input/dlp-object-detection/final_dlp_data/final_dlp_data/test/images/5cc4d280-1c50-4729-90ae-540af65ec593.jpeg: 864x672 1 culex, 10.2ms\n",
      "image 179/525 /kaggle/input/dlp-object-detection/final_dlp_data/final_dlp_data/test/images/5d2b5335-ceee-44fb-a479-5354f3387418.jpeg: 672x864 1 albopictus, 9.9ms\n",
      "image 180/525 /kaggle/input/dlp-object-detection/final_dlp_data/final_dlp_data/test/images/5e20a46c-b98f-4606-b4df-1ba5602c430d.jpeg: 864x672 1 culex, 10.1ms\n",
      "image 181/525 /kaggle/input/dlp-object-detection/final_dlp_data/final_dlp_data/test/images/5ea21a26-4ee0-46c2-8151-a96f4c409f31.jpeg: 864x512 1 culex, 8.2ms\n",
      "image 182/525 /kaggle/input/dlp-object-detection/final_dlp_data/final_dlp_data/test/images/5ef5a1ab-555b-48b9-ae2c-7cd13738dc2d.jpeg: 448x864 1 albopictus, 1 culex, 8.1ms\n",
      "image 183/525 /kaggle/input/dlp-object-detection/final_dlp_data/final_dlp_data/test/images/5f5d0d1c-5dec-4d66-bbd9-2c69c9cf4eeb.jpeg: 864x416 1 albopictus, 8.0ms\n",
      "image 184/525 /kaggle/input/dlp-object-detection/final_dlp_data/final_dlp_data/test/images/5f6b9da5-95c4-4635-af51-895c2fa32411.jpeg: 864x672 (no detections), 10.4ms\n",
      "image 185/525 /kaggle/input/dlp-object-detection/final_dlp_data/final_dlp_data/test/images/5fa87402-3206-43ba-b5a1-a78ace91ece9.jpeg: 512x864 1 albopictus, 8.3ms\n",
      "image 186/525 /kaggle/input/dlp-object-detection/final_dlp_data/final_dlp_data/test/images/60705f82-07dc-4ca8-99ae-a425e7e80887.jpeg: 864x448 1 culex, 8.2ms\n",
      "image 187/525 /kaggle/input/dlp-object-detection/final_dlp_data/final_dlp_data/test/images/6132cb88-f800-4d16-9c5e-a414b2587c4c.jpeg: 864x672 1 culex, 10.4ms\n",
      "image 188/525 /kaggle/input/dlp-object-detection/final_dlp_data/final_dlp_data/test/images/6144b1bd-c016-4f6e-bfdb-c51c43af369e.jpeg: 864x672 1 albopictus, 1 culex, 9.5ms\n",
      "image 189/525 /kaggle/input/dlp-object-detection/final_dlp_data/final_dlp_data/test/images/615ca1d2-e5cd-42df-b2e1-7d8820ead3fe.jpeg: 864x672 1 albopictus, 9.6ms\n",
      "image 190/525 /kaggle/input/dlp-object-detection/final_dlp_data/final_dlp_data/test/images/616d30cd-63e8-422a-9a61-6676bcc237a5.jpeg: 864x864 1 albopictus, 11.9ms\n",
      "image 191/525 /kaggle/input/dlp-object-detection/final_dlp_data/final_dlp_data/test/images/62aeb0d0-2be6-4c81-a4da-6b7fe7d8ff5c.jpeg: 800x864 1 albopictus, 11.6ms\n",
      "image 192/525 /kaggle/input/dlp-object-detection/final_dlp_data/final_dlp_data/test/images/62ca1f73-8df8-4762-8bc6-0fc7ba4bfb9e.jpeg: 864x672 1 culex, 10.1ms\n",
      "image 193/525 /kaggle/input/dlp-object-detection/final_dlp_data/final_dlp_data/test/images/62e8aa3a-af90-4de0-a537-4ac8dd4f61e5.jpeg: 864x864 1 albopictus, 11.8ms\n",
      "image 194/525 /kaggle/input/dlp-object-detection/final_dlp_data/final_dlp_data/test/images/6317a279-8147-4846-b518-e1492cd4de7c.jpeg: 864x736 1 culex, 10.6ms\n",
      "image 195/525 /kaggle/input/dlp-object-detection/final_dlp_data/final_dlp_data/test/images/63767936-fb44-41a8-90c6-6f96d61312f4.jpeg: 864x512 1 albopictus, 8.2ms\n",
      "image 196/525 /kaggle/input/dlp-object-detection/final_dlp_data/final_dlp_data/test/images/6376baab-5111-4233-986b-5001ae688eb7.jpeg: 800x864 1 albopictus, 11.7ms\n",
      "image 197/525 /kaggle/input/dlp-object-detection/final_dlp_data/final_dlp_data/test/images/6436c4d0-9bba-4ff0-aff2-3dcace59d39c.jpeg: 864x672 1 culex, 10.2ms\n",
      "image 198/525 /kaggle/input/dlp-object-detection/final_dlp_data/final_dlp_data/test/images/6509d5f5-6f52-4427-831d-6818175f90e2.jpeg: 864x672 1 albopictus, 9.5ms\n",
      "image 199/525 /kaggle/input/dlp-object-detection/final_dlp_data/final_dlp_data/test/images/651b0353-c02e-4f01-b129-53214a6b5378.jpeg: 864x672 1 culex, 9.6ms\n",
      "image 200/525 /kaggle/input/dlp-object-detection/final_dlp_data/final_dlp_data/test/images/6535db4a-3754-4678-a1cf-cd565b5040e6.jpeg: 864x672 1 culex, 9.5ms\n",
      "image 201/525 /kaggle/input/dlp-object-detection/final_dlp_data/final_dlp_data/test/images/65a2a520-97c2-443e-af7f-8f3e982a4f73.jpeg: 512x864 1 albopictus, 8.2ms\n",
      "image 202/525 /kaggle/input/dlp-object-detection/final_dlp_data/final_dlp_data/test/images/6620f567-8eaf-44ea-80ae-d4aa47316f36.jpeg: 512x864 1 culex, 7.4ms\n",
      "image 203/525 /kaggle/input/dlp-object-detection/final_dlp_data/final_dlp_data/test/images/66d1def1-60ee-475b-bb32-98bf34ddb120.jpeg: 864x672 1 albopictus, 10.4ms\n",
      "image 204/525 /kaggle/input/dlp-object-detection/final_dlp_data/final_dlp_data/test/images/670e619f-ed1a-43d2-b2e4-80d74614b893.jpeg: 864x672 1 culex, 9.5ms\n",
      "image 205/525 /kaggle/input/dlp-object-detection/final_dlp_data/final_dlp_data/test/images/67393420-fa37-4d8a-a647-a1fabadb8dc5.jpeg: 864x672 1 albopictus, 9.5ms\n",
      "image 206/525 /kaggle/input/dlp-object-detection/final_dlp_data/final_dlp_data/test/images/67c4ad50-83d4-4bc6-8b49-9843507b8e42.jpeg: 864x672 1 albopictus, 11.9ms\n",
      "image 207/525 /kaggle/input/dlp-object-detection/final_dlp_data/final_dlp_data/test/images/68208fbe-6d56-472f-a793-50885e601057.jpeg: 864x512 (no detections), 12.2ms\n",
      "image 208/525 /kaggle/input/dlp-object-detection/final_dlp_data/final_dlp_data/test/images/685a45d8-10d7-4a2f-98d5-e14d1ef0baf3.jpeg: 864x800 (no detections), 11.7ms\n",
      "image 209/525 /kaggle/input/dlp-object-detection/final_dlp_data/final_dlp_data/test/images/6a083e8b-0928-4f27-a731-fcc392b0b8b7.jpeg: 736x864 1 albopictus, 13.8ms\n",
      "image 210/525 /kaggle/input/dlp-object-detection/final_dlp_data/final_dlp_data/test/images/6a2a05a5-d113-4f4d-b543-31a80ff4f3ff.jpeg: 864x672 1 culex, 13.2ms\n",
      "image 211/525 /kaggle/input/dlp-object-detection/final_dlp_data/final_dlp_data/test/images/6a7cb700-2b95-40fb-a36e-1feb6aa274af.jpeg: 864x512 1 albopictus, 12.3ms\n",
      "image 212/525 /kaggle/input/dlp-object-detection/final_dlp_data/final_dlp_data/test/images/6b2af5fb-e8cc-45d8-8721-a8f8422f34da.jpeg: 864x672 1 albopictus, 12.6ms\n",
      "image 213/525 /kaggle/input/dlp-object-detection/final_dlp_data/final_dlp_data/test/images/6bdb0dca-93dd-40f1-b9ae-9759bc1b5789.jpeg: 864x512 1 albopictus, 11.7ms\n",
      "image 214/525 /kaggle/input/dlp-object-detection/final_dlp_data/final_dlp_data/test/images/6c53439b-11cd-4145-888f-596b6d716aac.jpeg: 448x864 1 albopictus, 8.1ms\n",
      "image 215/525 /kaggle/input/dlp-object-detection/final_dlp_data/final_dlp_data/test/images/6ce1e724-6545-43a8-9029-77d0dbdbfa14.jpeg: 864x672 1 culex, 10.3ms\n",
      "image 216/525 /kaggle/input/dlp-object-detection/final_dlp_data/final_dlp_data/test/images/6e4c95cc-247e-4f17-9419-e4b19f6842eb.jpeg: 736x864 1 albopictus, 10.6ms\n",
      "image 217/525 /kaggle/input/dlp-object-detection/final_dlp_data/final_dlp_data/test/images/6e6928f8-5f78-4eda-ad32-cf497a7fbe70.jpeg: 864x512 1 culex, 8.8ms\n",
      "image 218/525 /kaggle/input/dlp-object-detection/final_dlp_data/final_dlp_data/test/images/6f2709ef-afa7-41b4-a825-9104232b2b36.jpeg: 864x672 1 culex, 10.2ms\n",
      "image 219/525 /kaggle/input/dlp-object-detection/final_dlp_data/final_dlp_data/test/images/6f69d89b-eba2-410c-83a2-a7f8639976d7.jpeg: 864x672 1 culex, 9.5ms\n",
      "image 220/525 /kaggle/input/dlp-object-detection/final_dlp_data/final_dlp_data/test/images/704e8864-c744-474a-bbc1-b29b3a16eaca.jpeg: 864x672 1 culex, 9.5ms\n",
      "image 221/525 /kaggle/input/dlp-object-detection/final_dlp_data/final_dlp_data/test/images/7096de1f-3155-4b3a-b204-6fe51c66cf03.jpeg: 864x672 1 culex, 9.6ms\n",
      "image 222/525 /kaggle/input/dlp-object-detection/final_dlp_data/final_dlp_data/test/images/7107025c-6096-43bb-917c-17f76c50105e.jpeg: 864x672 1 culex, 9.5ms\n",
      "image 223/525 /kaggle/input/dlp-object-detection/final_dlp_data/final_dlp_data/test/images/7108bc63-6010-4a45-ab07-1a6999ad56d0.jpeg: 864x672 1 albopictus, 9.5ms\n",
      "image 224/525 /kaggle/input/dlp-object-detection/final_dlp_data/final_dlp_data/test/images/71404d0a-642e-492e-b777-06536f63664d.jpeg: 672x864 1 albopictus, 9.8ms\n",
      "image 225/525 /kaggle/input/dlp-object-detection/final_dlp_data/final_dlp_data/test/images/7154c57d-6d79-4c11-bb3b-cc8b74ea09df.jpeg: 864x672 1 culex, 10.5ms\n",
      "image 226/525 /kaggle/input/dlp-object-detection/final_dlp_data/final_dlp_data/test/images/721ee73d-1a01-4244-910e-9d2572bf8468.jpeg: 864x672 1 albopictus, 9.6ms\n",
      "image 227/525 /kaggle/input/dlp-object-detection/final_dlp_data/final_dlp_data/test/images/7327194f-cfbd-4db4-a41f-44a00d870fcf.jpeg: 864x832 1 albopictus, 11.9ms\n",
      "image 228/525 /kaggle/input/dlp-object-detection/final_dlp_data/final_dlp_data/test/images/74362b37-932d-4b9c-86c9-01e0963a266f.jpeg: 672x864 (no detections), 9.8ms\n",
      "image 229/525 /kaggle/input/dlp-object-detection/final_dlp_data/final_dlp_data/test/images/74f0e740-520e-401b-8161-91ff962ebe8f.jpeg: 672x864 1 culex, 9.3ms\n",
      "image 230/525 /kaggle/input/dlp-object-detection/final_dlp_data/final_dlp_data/test/images/75674b48-71e3-416b-9454-a4e3c4271d7b.jpeg: 672x864 1 culex, 9.1ms\n",
      "image 231/525 /kaggle/input/dlp-object-detection/final_dlp_data/final_dlp_data/test/images/78a0332d-4ea3-4ac9-aa27-06a9103ef890.jpeg: 864x416 1 culex, 7.9ms\n",
      "image 232/525 /kaggle/input/dlp-object-detection/final_dlp_data/final_dlp_data/test/images/78d112c6-29f3-45bc-80da-ea4680d75ce0.jpeg: 704x864 1 albopictus, 10.1ms\n",
      "image 233/525 /kaggle/input/dlp-object-detection/final_dlp_data/final_dlp_data/test/images/78e71aaf-d9b7-4ecb-abec-afbaeee7ce4d.jpeg: 864x416 1 culex, 8.0ms\n",
      "image 234/525 /kaggle/input/dlp-object-detection/final_dlp_data/final_dlp_data/test/images/79d6c162-db4c-4501-a64e-d1bc2ff27808.jpeg: 864x672 1 culex, 10.2ms\n",
      "image 235/525 /kaggle/input/dlp-object-detection/final_dlp_data/final_dlp_data/test/images/7c1b9f66-7f86-40b7-9e94-d4c822819f7c.jpeg: 864x672 1 albopictus, 9.6ms\n",
      "image 236/525 /kaggle/input/dlp-object-detection/final_dlp_data/final_dlp_data/test/images/7c5edea9-a8aa-451f-b1a4-e63a7cc4168a.jpeg: 448x864 1 albopictus, 8.0ms\n",
      "image 237/525 /kaggle/input/dlp-object-detection/final_dlp_data/final_dlp_data/test/images/7ce8065d-ef25-4008-b156-785157b0ba13.jpeg: 864x672 1 culex, 10.2ms\n",
      "image 238/525 /kaggle/input/dlp-object-detection/final_dlp_data/final_dlp_data/test/images/7d3e790a-65a6-4029-8522-8865aa0a0aac.jpeg: 864x672 1 culex, 9.5ms\n",
      "image 239/525 /kaggle/input/dlp-object-detection/final_dlp_data/final_dlp_data/test/images/7d86dcfa-de92-45e8-b5e8-d622e4189049.jpeg: 864x672 1 culex, 9.6ms\n",
      "image 240/525 /kaggle/input/dlp-object-detection/final_dlp_data/final_dlp_data/test/images/7daa68bd-928b-4b43-850f-4626f16d2c14.jpeg: 864x672 1 albopictus, 9.5ms\n",
      "image 241/525 /kaggle/input/dlp-object-detection/final_dlp_data/final_dlp_data/test/images/7db59a48-af03-4fd8-9274-064334605d5f.jpeg: 864x448 1 albopictus, 8.1ms\n",
      "image 242/525 /kaggle/input/dlp-object-detection/final_dlp_data/final_dlp_data/test/images/7e1fd24d-27cd-4837-88d1-87176af957fd.jpeg: 512x864 1 albopictus, 8.2ms\n",
      "image 243/525 /kaggle/input/dlp-object-detection/final_dlp_data/final_dlp_data/test/images/7e6625aa-3fd5-49cc-a765-dc88b2688d01.jpeg: 512x864 1 culex, 7.4ms\n",
      "image 244/525 /kaggle/input/dlp-object-detection/final_dlp_data/final_dlp_data/test/images/7f2d5948-18c2-480d-a02e-cd54d4dc4f05.jpeg: 864x512 1 albopictus, 8.4ms\n",
      "image 245/525 /kaggle/input/dlp-object-detection/final_dlp_data/final_dlp_data/test/images/80155138-4fce-4cbe-a306-6c7930eb4dfa.jpeg: 672x864 1 albopictus, 9.9ms\n",
      "image 246/525 /kaggle/input/dlp-object-detection/final_dlp_data/final_dlp_data/test/images/80dc41c3-280a-4e17-b919-1cf4a294b058.jpeg: 864x672 1 albopictus, 10.5ms\n",
      "image 247/525 /kaggle/input/dlp-object-detection/final_dlp_data/final_dlp_data/test/images/8104f0e7-444b-4875-bed1-64a50f723124.jpeg: 864x672 1 culex, 9.6ms\n",
      "image 248/525 /kaggle/input/dlp-object-detection/final_dlp_data/final_dlp_data/test/images/813c8580-fa53-4a41-8110-9c89f093dcdd.jpeg: 512x864 1 albopictus, 8.2ms\n",
      "image 249/525 /kaggle/input/dlp-object-detection/final_dlp_data/final_dlp_data/test/images/818eaca8-2ff7-4bc3-a474-4862095d526e.jpeg: 672x864 1 albopictus, 9.9ms\n",
      "image 250/525 /kaggle/input/dlp-object-detection/final_dlp_data/final_dlp_data/test/images/81c031c5-917a-43c8-88fd-a538694a4795.jpeg: 864x672 1 albopictus, 10.2ms\n",
      "image 251/525 /kaggle/input/dlp-object-detection/final_dlp_data/final_dlp_data/test/images/81f374f4-b8b8-4df5-98c7-1e8c41df221d.jpeg: 512x864 1 albopictus, 8.2ms\n",
      "image 252/525 /kaggle/input/dlp-object-detection/final_dlp_data/final_dlp_data/test/images/8294cd5d-27ff-414c-9801-c99bc6f7c7a7.jpeg: 416x864 1 culex, 7.8ms\n",
      "image 253/525 /kaggle/input/dlp-object-detection/final_dlp_data/final_dlp_data/test/images/83422421-0a20-482e-bb4f-4ba6dfc92b28.jpeg: 864x864 1 culex, 11.9ms\n",
      "image 254/525 /kaggle/input/dlp-object-detection/final_dlp_data/final_dlp_data/test/images/83842b2c-7d8a-492a-8dfd-220c5ece1bc3.jpeg: 864x672 1 culex, 10.2ms\n",
      "image 255/525 /kaggle/input/dlp-object-detection/final_dlp_data/final_dlp_data/test/images/83940543-c311-42ae-bff5-b84702a68e03.jpeg: 864x672 1 culex, 9.5ms\n",
      "image 256/525 /kaggle/input/dlp-object-detection/final_dlp_data/final_dlp_data/test/images/84204b9f-8c10-406d-bdd1-790c4b466521.jpeg: 864x672 1 culex, 9.5ms\n",
      "image 257/525 /kaggle/input/dlp-object-detection/final_dlp_data/final_dlp_data/test/images/845672d2-3415-43f4-91c1-ce551eaf898b.jpeg: 864x672 1 culex, 9.6ms\n",
      "image 258/525 /kaggle/input/dlp-object-detection/final_dlp_data/final_dlp_data/test/images/846989e5-ee4b-4ccf-85f2-a3407c5c9fe6.jpeg: 864x672 1 albopictus, 9.6ms\n",
      "image 259/525 /kaggle/input/dlp-object-detection/final_dlp_data/final_dlp_data/test/images/84741405-2fd3-4f9a-b327-5bc2f834735f.jpeg: 864x672 1 culex, 9.6ms\n",
      "image 260/525 /kaggle/input/dlp-object-detection/final_dlp_data/final_dlp_data/test/images/84d64b6a-fa7a-47d3-a223-689e04c3295a.jpeg: 864x576 1 albopictus, 35.8ms\n",
      "image 261/525 /kaggle/input/dlp-object-detection/final_dlp_data/final_dlp_data/test/images/84da1f98-02be-4189-bc6c-b340613e17df.jpeg: 864x512 1 albopictus, 8.2ms\n",
      "image 262/525 /kaggle/input/dlp-object-detection/final_dlp_data/final_dlp_data/test/images/8633472f-f178-4a92-8c1f-ba9287c8b9d8.jpeg: 448x864 1 culex, 7.9ms\n",
      "image 263/525 /kaggle/input/dlp-object-detection/final_dlp_data/final_dlp_data/test/images/8688c78b-2e39-4188-93d1-a2e607844b0e.jpeg: 512x864 2 albopictuss, 8.1ms\n",
      "image 264/525 /kaggle/input/dlp-object-detection/final_dlp_data/final_dlp_data/test/images/86e7cee3-92ac-40e5-b0dc-457ddf2e795e.jpeg: 864x672 1 albopictus, 10.1ms\n",
      "image 265/525 /kaggle/input/dlp-object-detection/final_dlp_data/final_dlp_data/test/images/87573bc0-f7fd-4da6-b085-c331d740039f.jpeg: 864x672 1 albopictus, 9.5ms\n",
      "image 266/525 /kaggle/input/dlp-object-detection/final_dlp_data/final_dlp_data/test/images/87868e36-b097-48e2-ac70-29bc67f0fb8b.jpeg: 864x672 1 culex, 9.5ms\n",
      "image 267/525 /kaggle/input/dlp-object-detection/final_dlp_data/final_dlp_data/test/images/8a5bb3d4-d55c-45bb-b4e7-a691f878c5c0.jpeg: 768x864 1 albopictus, 11.2ms\n",
      "image 268/525 /kaggle/input/dlp-object-detection/final_dlp_data/final_dlp_data/test/images/8aa3af3a-91a0-4ff9-963d-2d1e0990b352.jpeg: 864x672 1 albopictus, 10.4ms\n",
      "image 269/525 /kaggle/input/dlp-object-detection/final_dlp_data/final_dlp_data/test/images/8ad17913-2a38-48e8-a1a8-c7004d6d1c3e.jpeg: 864x672 1 culex, 9.6ms\n",
      "image 270/525 /kaggle/input/dlp-object-detection/final_dlp_data/final_dlp_data/test/images/8b15bfdd-ca19-4502-af48-a7ffaef140a5.jpeg: 864x672 1 culex, 9.5ms\n",
      "image 271/525 /kaggle/input/dlp-object-detection/final_dlp_data/final_dlp_data/test/images/8b85b3f2-a80d-4f71-91c0-6eea7631012b.jpeg: 864x672 1 culex, 9.5ms\n",
      "image 272/525 /kaggle/input/dlp-object-detection/final_dlp_data/final_dlp_data/test/images/8ba8004e-3391-48c5-9412-816d343af664.jpeg: 864x672 1 albopictus, 9.5ms\n",
      "image 273/525 /kaggle/input/dlp-object-detection/final_dlp_data/final_dlp_data/test/images/8bb507e8-6ab3-41e1-b618-cae0ea139a4e.jpeg: 864x672 1 culex, 9.5ms\n",
      "image 274/525 /kaggle/input/dlp-object-detection/final_dlp_data/final_dlp_data/test/images/8c9548e2-5d1c-4454-b515-920d92859acb.jpeg: 864x672 1 albopictus, 9.6ms\n",
      "image 275/525 /kaggle/input/dlp-object-detection/final_dlp_data/final_dlp_data/test/images/8d370e31-80a1-493c-b300-8592ae7b47fb.jpeg: 800x864 1 albopictus, 11.7ms\n",
      "image 276/525 /kaggle/input/dlp-object-detection/final_dlp_data/final_dlp_data/test/images/8d3b4000-08c6-4545-93e6-9286818ad91e.jpeg: 704x864 1 albopictus, 10.8ms\n",
      "image 277/525 /kaggle/input/dlp-object-detection/final_dlp_data/final_dlp_data/test/images/8d84c15d-d444-4514-a8cc-f187808a75ed.jpeg: 864x672 1 albopictus, 10.4ms\n",
      "image 278/525 /kaggle/input/dlp-object-detection/final_dlp_data/final_dlp_data/test/images/8f40cc2a-65b7-447b-a111-9ca66dbedee7.jpeg: 416x864 1 albopictus, 7.8ms\n",
      "image 279/525 /kaggle/input/dlp-object-detection/final_dlp_data/final_dlp_data/test/images/8fe0f5db-cb9a-4b56-a7d5-88044c852ea9.jpeg: 672x864 (no detections), 10.0ms\n",
      "image 280/525 /kaggle/input/dlp-object-detection/final_dlp_data/final_dlp_data/test/images/9018a4fc-0207-43e0-ad6c-9b8a04374f0a.jpeg: 864x672 1 albopictus, 10.2ms\n",
      "image 281/525 /kaggle/input/dlp-object-detection/final_dlp_data/final_dlp_data/test/images/90231987-8eb4-44e9-94ed-2f7674c5f7a1.jpeg: 864x672 1 albopictus, 9.5ms\n",
      "image 282/525 /kaggle/input/dlp-object-detection/final_dlp_data/final_dlp_data/test/images/905a7f94-0aeb-43a0-a479-120f48ee85c2.jpeg: 864x672 1 albopictus, 9.6ms\n",
      "image 283/525 /kaggle/input/dlp-object-detection/final_dlp_data/final_dlp_data/test/images/90690b80-87de-4711-9a91-3d6ffa672ee4.jpeg: 864x672 1 culex, 9.7ms\n",
      "image 284/525 /kaggle/input/dlp-object-detection/final_dlp_data/final_dlp_data/test/images/90b40ef2-012d-4880-ad0a-4422f0ce8df1.jpeg: 512x864 1 albopictus, 8.3ms\n",
      "image 285/525 /kaggle/input/dlp-object-detection/final_dlp_data/final_dlp_data/test/images/90b8b0d1-4963-4c1b-a038-9fb46904cbe1.jpeg: 864x800 1 albopictus, 11.6ms\n",
      "image 286/525 /kaggle/input/dlp-object-detection/final_dlp_data/final_dlp_data/test/images/91271444-27b8-4073-894b-ebbebd60bba5.jpeg: 864x416 1 culex, 7.9ms\n",
      "image 287/525 /kaggle/input/dlp-object-detection/final_dlp_data/final_dlp_data/test/images/9137483c-d81b-4eca-ab20-3bf545e5855e.jpeg: 864x672 1 albopictus, 10.5ms\n",
      "image 288/525 /kaggle/input/dlp-object-detection/final_dlp_data/final_dlp_data/test/images/916bebd9-fc40-4a4c-8b5d-a38f54ef3698.jpeg: 864x672 1 albopictus, 9.5ms\n",
      "image 289/525 /kaggle/input/dlp-object-detection/final_dlp_data/final_dlp_data/test/images/9192c4fd-963b-41e1-9475-1488848fb373.jpeg: 672x864 1 culex, 9.7ms\n",
      "image 290/525 /kaggle/input/dlp-object-detection/final_dlp_data/final_dlp_data/test/images/91e2f32f-e680-40ba-a2ab-6ed5ae919270.jpeg: 864x672 1 culex, 10.3ms\n",
      "image 291/525 /kaggle/input/dlp-object-detection/final_dlp_data/final_dlp_data/test/images/91f0117d-7648-4951-ad9c-86c27db235b0.jpeg: 864x672 1 culex, 9.5ms\n",
      "image 292/525 /kaggle/input/dlp-object-detection/final_dlp_data/final_dlp_data/test/images/91f9fe75-4359-4819-87a6-a5c2e5836bea.jpeg: 864x672 1 albopictus, 9.6ms\n",
      "image 293/525 /kaggle/input/dlp-object-detection/final_dlp_data/final_dlp_data/test/images/92320f79-6507-4ee9-8231-f4886080a52b.jpeg: 672x864 1 albopictus, 9.9ms\n",
      "image 294/525 /kaggle/input/dlp-object-detection/final_dlp_data/final_dlp_data/test/images/92742c4a-c8fd-4e3b-8cfa-60d52f26ba8f.jpeg: 864x864 1 albopictus, 12.0ms\n",
      "image 295/525 /kaggle/input/dlp-object-detection/final_dlp_data/final_dlp_data/test/images/929047cf-44d6-4c59-bae6-87110df27cbb.jpeg: 864x672 1 albopictus, 10.4ms\n",
      "image 296/525 /kaggle/input/dlp-object-detection/final_dlp_data/final_dlp_data/test/images/92a02501-bc65-4a92-9ff2-c58a5ae4b6b5.jpeg: 864x672 1 culex, 9.6ms\n",
      "image 297/525 /kaggle/input/dlp-object-detection/final_dlp_data/final_dlp_data/test/images/92aa8844-d059-43ac-b6d6-b92117836443.jpeg: 864x672 1 culex, 9.6ms\n",
      "image 298/525 /kaggle/input/dlp-object-detection/final_dlp_data/final_dlp_data/test/images/933578c0-2311-47cc-b64d-515f123bf024.jpeg: 864x864 1 albopictus, 1 culex, 11.9ms\n",
      "image 299/525 /kaggle/input/dlp-object-detection/final_dlp_data/final_dlp_data/test/images/93cfae48-b274-4436-b853-283127861fd7.jpeg: 864x672 1 culex, 10.2ms\n",
      "image 300/525 /kaggle/input/dlp-object-detection/final_dlp_data/final_dlp_data/test/images/94554e5f-37c2-4512-a9bf-e31ff7c55565.jpeg: 864x672 1 culex, 9.6ms\n",
      "image 301/525 /kaggle/input/dlp-object-detection/final_dlp_data/final_dlp_data/test/images/9583081a-c9af-47ce-b9f5-4abfdc23aaca.jpeg: 864x672 1 albopictus, 9.6ms\n",
      "image 302/525 /kaggle/input/dlp-object-detection/final_dlp_data/final_dlp_data/test/images/95be7d42-cb47-4a68-9c07-608421e75b59.jpeg: 864x416 1 albopictus, 8.0ms\n",
      "image 303/525 /kaggle/input/dlp-object-detection/final_dlp_data/final_dlp_data/test/images/965d6ab0-4799-4ad1-b21d-bff7a85e67ad.jpeg: 864x672 1 culex, 10.1ms\n",
      "image 304/525 /kaggle/input/dlp-object-detection/final_dlp_data/final_dlp_data/test/images/966a953a-d447-4b07-8aa3-ee04eafcf5a9.jpeg: 864x512 1 albopictus, 8.2ms\n",
      "image 305/525 /kaggle/input/dlp-object-detection/final_dlp_data/final_dlp_data/test/images/988fe925-5890-44b1-97d6-736d8d6fd9b7.jpeg: 864x672 2 culexs, 10.1ms\n",
      "image 306/525 /kaggle/input/dlp-object-detection/final_dlp_data/final_dlp_data/test/images/98a1d744-fd38-48cc-92d7-72b0d43245f7.jpeg: 864x672 1 culex, 9.5ms\n",
      "image 307/525 /kaggle/input/dlp-object-detection/final_dlp_data/final_dlp_data/test/images/98b6fce1-0441-41f2-9f15-ead88b530e80.jpeg: 672x864 2 culexs, 9.9ms\n",
      "image 308/525 /kaggle/input/dlp-object-detection/final_dlp_data/final_dlp_data/test/images/98dfc170-94f8-4536-899a-7f1dce04471f.jpeg: 864x672 1 albopictus, 10.2ms\n",
      "image 309/525 /kaggle/input/dlp-object-detection/final_dlp_data/final_dlp_data/test/images/99cad3f7-ad1d-419f-808d-3eb43f2d7d69.jpeg: 864x672 1 albopictus, 9.6ms\n",
      "image 310/525 /kaggle/input/dlp-object-detection/final_dlp_data/final_dlp_data/test/images/9a46c7a9-5b3a-4fe3-9e0f-f4b5c8cceaf4.jpeg: 864x672 1 albopictus, 12.1ms\n",
      "image 311/525 /kaggle/input/dlp-object-detection/final_dlp_data/final_dlp_data/test/images/9a9b9059-a121-4f0f-97b9-24e4f82d340a.jpeg: 672x864 1 culex, 11.5ms\n",
      "image 312/525 /kaggle/input/dlp-object-detection/final_dlp_data/final_dlp_data/test/images/9ac3772e-4483-4e68-a16b-98757d960d84.jpeg: 864x672 1 albopictus, 10.4ms\n",
      "image 313/525 /kaggle/input/dlp-object-detection/final_dlp_data/final_dlp_data/test/images/9b58be90-9152-45ea-84c9-6d98a817f086.jpeg: 864x672 1 culex, 9.5ms\n",
      "image 314/525 /kaggle/input/dlp-object-detection/final_dlp_data/final_dlp_data/test/images/9c23c68c-644e-41c6-9056-68320e2b199a.jpeg: 864x672 1 albopictus, 9.5ms\n",
      "image 315/525 /kaggle/input/dlp-object-detection/final_dlp_data/final_dlp_data/test/images/9c540f59-9ea8-4478-adb4-a5fe1201e5fb.jpeg: 864x672 1 albopictus, 9.6ms\n",
      "image 316/525 /kaggle/input/dlp-object-detection/final_dlp_data/final_dlp_data/test/images/9c68c47b-efc8-420d-9651-de0b4944f867.jpeg: 864x608 1 culex, 9.6ms\n",
      "image 317/525 /kaggle/input/dlp-object-detection/final_dlp_data/final_dlp_data/test/images/9c9af1d7-5dbf-4bdb-9980-2b7e9becb048.jpeg: 864x672 1 culex, 10.2ms\n",
      "image 318/525 /kaggle/input/dlp-object-detection/final_dlp_data/final_dlp_data/test/images/9cab7af0-1278-48c9-977d-ac084881a335.jpeg: 864x672 1 albopictus, 9.5ms\n",
      "image 319/525 /kaggle/input/dlp-object-detection/final_dlp_data/final_dlp_data/test/images/9d0d18cb-7466-41ca-bc3b-65f447cb4489.jpeg: 864x448 1 albopictus, 8.0ms\n",
      "image 320/525 /kaggle/input/dlp-object-detection/final_dlp_data/final_dlp_data/test/images/9db78f23-6352-47a2-8a6f-18a8a3b2811c.jpeg: 864x416 1 albopictus, 7.9ms\n",
      "image 321/525 /kaggle/input/dlp-object-detection/final_dlp_data/final_dlp_data/test/images/9dc1f00e-135c-4b5f-9614-4dadcc33c597.jpeg: 672x864 1 culex, 9.8ms\n",
      "image 322/525 /kaggle/input/dlp-object-detection/final_dlp_data/final_dlp_data/test/images/9de9e882-84d2-414f-ae78-5c3708823831.jpeg: 864x672 1 culex, 10.2ms\n",
      "image 323/525 /kaggle/input/dlp-object-detection/final_dlp_data/final_dlp_data/test/images/9e4abca6-1b85-48c0-916b-30e690279124.jpeg: 864x416 1 culex, 8.0ms\n",
      "image 324/525 /kaggle/input/dlp-object-detection/final_dlp_data/final_dlp_data/test/images/9e619225-3ea9-41c1-98b5-b9c38bc014f6.jpeg: 864x672 1 albopictus, 10.5ms\n",
      "image 325/525 /kaggle/input/dlp-object-detection/final_dlp_data/final_dlp_data/test/images/9ee2a709-6821-49c6-ad5f-a0831f664a6f.jpeg: 864x672 1 albopictus, 9.5ms\n",
      "image 326/525 /kaggle/input/dlp-object-detection/final_dlp_data/final_dlp_data/test/images/9f486c54-8608-4763-aca8-0dbed7cf84d2.jpeg: 864x672 1 albopictus, 9.6ms\n",
      "image 327/525 /kaggle/input/dlp-object-detection/final_dlp_data/final_dlp_data/test/images/9fbe7765-f3e5-47e4-aafb-7c151b4a883b.jpeg: 864x512 1 culex, 8.4ms\n",
      "image 328/525 /kaggle/input/dlp-object-detection/final_dlp_data/final_dlp_data/test/images/a0424cf2-beae-4e47-804a-4609efc4cf79.jpeg: 864x448 1 albopictus, 8.2ms\n",
      "image 329/525 /kaggle/input/dlp-object-detection/final_dlp_data/final_dlp_data/test/images/a049be38-1760-42f8-9f37-a7d7b8dde450.jpeg: 864x672 1 albopictus, 10.4ms\n",
      "image 330/525 /kaggle/input/dlp-object-detection/final_dlp_data/final_dlp_data/test/images/a0d2c55a-d3c6-473b-a489-f658497f8154.jpeg: 800x864 1 culiseta, 11.8ms\n",
      "image 331/525 /kaggle/input/dlp-object-detection/final_dlp_data/final_dlp_data/test/images/a107d201-1c72-4263-8815-d698c28a8f39.jpeg: 864x672 1 albopictus, 11.0ms\n",
      "image 332/525 /kaggle/input/dlp-object-detection/final_dlp_data/final_dlp_data/test/images/a1aca7ec-c709-4da9-b976-2be3525245c6.jpeg: 864x416 1 culex, 8.3ms\n",
      "image 333/525 /kaggle/input/dlp-object-detection/final_dlp_data/final_dlp_data/test/images/a22f7f95-6ef5-4440-bdae-21358100bffe.jpeg: 864x512 1 culex, 8.2ms\n",
      "image 334/525 /kaggle/input/dlp-object-detection/final_dlp_data/final_dlp_data/test/images/a413a7d8-d7cb-436c-9449-08b4e1aa41c1.jpeg: 864x672 1 culex, 10.1ms\n",
      "image 335/525 /kaggle/input/dlp-object-detection/final_dlp_data/final_dlp_data/test/images/a4d04bd0-8096-4c7f-b655-9f7c347d383f.jpeg: 864x512 1 albopictus, 8.3ms\n",
      "image 336/525 /kaggle/input/dlp-object-detection/final_dlp_data/final_dlp_data/test/images/a4fabc05-3164-465f-9bd3-1964e9b324e2.jpeg: 864x672 1 culex, 10.3ms\n",
      "image 337/525 /kaggle/input/dlp-object-detection/final_dlp_data/final_dlp_data/test/images/a52c8cab-9ec1-486f-ba32-04af99389f39.jpeg: 864x672 1 culex, 1 culiseta, 9.5ms\n",
      "image 338/525 /kaggle/input/dlp-object-detection/final_dlp_data/final_dlp_data/test/images/a573eb7e-a5cb-479a-8ad4-362df11a7b29.jpeg: 864x672 1 albopictus, 9.5ms\n",
      "image 339/525 /kaggle/input/dlp-object-detection/final_dlp_data/final_dlp_data/test/images/a5757ea9-940a-40c1-bf14-f25df4f7fd5c.jpeg: 864x672 1 albopictus, 9.5ms\n",
      "image 340/525 /kaggle/input/dlp-object-detection/final_dlp_data/final_dlp_data/test/images/a58d07c8-da0a-4c77-a06c-f36302293da4.jpeg: 864x672 1 culex, 9.6ms\n",
      "image 341/525 /kaggle/input/dlp-object-detection/final_dlp_data/final_dlp_data/test/images/a595c35c-1b1f-405e-96b0-3642d76a165f.jpeg: 864x672 1 culex, 9.7ms\n",
      "image 342/525 /kaggle/input/dlp-object-detection/final_dlp_data/final_dlp_data/test/images/a6b631f4-e66e-4350-8d79-8dc43dd2d9d6.jpeg: 864x672 1 culiseta, 9.6ms\n",
      "image 343/525 /kaggle/input/dlp-object-detection/final_dlp_data/final_dlp_data/test/images/a7b2fdb5-e670-46c6-ae2f-efe1ec1917d4.jpeg: 864x672 1 culex, 9.5ms\n",
      "image 344/525 /kaggle/input/dlp-object-detection/final_dlp_data/final_dlp_data/test/images/a84afc41-fb24-4e83-b033-09bf97f1a1e7.jpeg: 448x864 1 albopictus, 7.9ms\n",
      "image 345/525 /kaggle/input/dlp-object-detection/final_dlp_data/final_dlp_data/test/images/a8ad1e9a-a1cb-460f-8a03-3a4dea65cd09.jpeg: 864x672 1 culex, 10.2ms\n",
      "image 346/525 /kaggle/input/dlp-object-detection/final_dlp_data/final_dlp_data/test/images/a8bd345f-b06b-4085-af33-077dfe32daed.jpeg: 864x672 1 culex, 9.5ms\n",
      "image 347/525 /kaggle/input/dlp-object-detection/final_dlp_data/final_dlp_data/test/images/a8e444f6-5313-466b-a611-81a5a2cf4b6b.jpeg: 864x672 1 culex, 9.5ms\n",
      "image 348/525 /kaggle/input/dlp-object-detection/final_dlp_data/final_dlp_data/test/images/a909dc81-886e-46b2-a141-8d223b058ab4.jpeg: 672x864 1 albopictus, 9.8ms\n",
      "image 349/525 /kaggle/input/dlp-object-detection/final_dlp_data/final_dlp_data/test/images/a98813d4-a142-4fa6-b84f-c24b1f957be2.jpeg: 864x512 1 albopictus, 8.2ms\n",
      "image 350/525 /kaggle/input/dlp-object-detection/final_dlp_data/final_dlp_data/test/images/a9d3c3fb-5f5e-4e36-a526-2fa1689b04f7.jpeg: 864x480 1 albopictus, 36.2ms\n",
      "image 351/525 /kaggle/input/dlp-object-detection/final_dlp_data/final_dlp_data/test/images/aae27793-af32-4235-a4f8-c4b5de9a0617.jpeg: 864x672 1 albopictus, 10.3ms\n",
      "image 352/525 /kaggle/input/dlp-object-detection/final_dlp_data/final_dlp_data/test/images/aba33c0c-b52d-42cb-92d2-888d8bc7d1d3.jpeg: 864x672 1 culex, 9.6ms\n",
      "image 353/525 /kaggle/input/dlp-object-detection/final_dlp_data/final_dlp_data/test/images/abcd1135-de3d-4374-bc38-112b4765fa07.jpeg: 864x672 1 albopictus, 9.6ms\n",
      "image 354/525 /kaggle/input/dlp-object-detection/final_dlp_data/final_dlp_data/test/images/abf54ff5-fa07-46f0-99be-c3d9cc60fef9.jpeg: 512x864 1 culex, 8.1ms\n",
      "image 355/525 /kaggle/input/dlp-object-detection/final_dlp_data/final_dlp_data/test/images/ac2c9893-212b-4f41-a762-32953835ff8d.jpeg: 864x672 1 culex, 10.2ms\n",
      "image 356/525 /kaggle/input/dlp-object-detection/final_dlp_data/final_dlp_data/test/images/ac412026-676e-4bab-8290-ba0d4d50396b.jpeg: 576x864 1 culiseta, 12.0ms\n",
      "image 357/525 /kaggle/input/dlp-object-detection/final_dlp_data/final_dlp_data/test/images/acd2acef-f7bb-45c6-b854-4ab915d5d7ef.jpeg: 864x864 1 culex, 13.6ms\n",
      "image 358/525 /kaggle/input/dlp-object-detection/final_dlp_data/final_dlp_data/test/images/ad5aba3e-8ace-49e0-bf14-af2a91ea897f.jpeg: 864x672 (no detections), 10.3ms\n",
      "image 359/525 /kaggle/input/dlp-object-detection/final_dlp_data/final_dlp_data/test/images/ae32dfa6-178f-41eb-96ac-ab4b47d0da87.jpeg: 512x864 1 albopictus, 8.2ms\n",
      "image 360/525 /kaggle/input/dlp-object-detection/final_dlp_data/final_dlp_data/test/images/aed58175-1266-4149-a8b3-c20c7161d944.jpeg: 864x672 1 albopictus, 10.3ms\n",
      "image 361/525 /kaggle/input/dlp-object-detection/final_dlp_data/final_dlp_data/test/images/af1ebc05-825d-480c-b8e9-d1d28d761a0b.jpeg: 864x672 1 albopictus, 9.5ms\n",
      "image 362/525 /kaggle/input/dlp-object-detection/final_dlp_data/final_dlp_data/test/images/b0114543-8a81-4dd7-8d71-c6cf0d7604e5.jpeg: 864x672 1 culex, 9.5ms\n",
      "image 363/525 /kaggle/input/dlp-object-detection/final_dlp_data/final_dlp_data/test/images/b0ac805f-addb-40b7-a4e4-bbd2c5c4514c.jpeg: 864x672 1 culex, 9.6ms\n",
      "image 364/525 /kaggle/input/dlp-object-detection/final_dlp_data/final_dlp_data/test/images/b0d1af1b-3457-4b5e-b5f5-401c3c624925.jpeg: 864x672 2 culexs, 9.6ms\n",
      "image 365/525 /kaggle/input/dlp-object-detection/final_dlp_data/final_dlp_data/test/images/b0d521b6-9476-41ab-9f7a-2b0b0529e362.jpeg: 448x864 1 culex, 8.0ms\n",
      "image 366/525 /kaggle/input/dlp-object-detection/final_dlp_data/final_dlp_data/test/images/b14ca2c0-2528-4487-a163-5de13f59b307.jpeg: 864x672 1 culiseta, 10.4ms\n",
      "image 367/525 /kaggle/input/dlp-object-detection/final_dlp_data/final_dlp_data/test/images/b165cc46-a654-4452-aa76-1ef4252c164a.jpeg: 672x864 1 albopictus, 13.3ms\n",
      "image 368/525 /kaggle/input/dlp-object-detection/final_dlp_data/final_dlp_data/test/images/b1b977df-dd1e-43fd-9e25-0a21e65990ce.jpeg: 864x416 1 culex, 11.6ms\n",
      "image 369/525 /kaggle/input/dlp-object-detection/final_dlp_data/final_dlp_data/test/images/b1de96a0-ae1c-49e9-8a1c-ed4d4166f095.jpeg: 864x704 1 albopictus, 12.7ms\n",
      "image 370/525 /kaggle/input/dlp-object-detection/final_dlp_data/final_dlp_data/test/images/b24a13f5-59f2-4deb-b77d-543468397b9b.jpeg: 864x672 1 culex, 12.5ms\n",
      "image 371/525 /kaggle/input/dlp-object-detection/final_dlp_data/final_dlp_data/test/images/b2eac592-a1aa-4549-a7a4-a12323b9e50c.jpeg: 864x672 1 albopictus, 9.6ms\n",
      "image 372/525 /kaggle/input/dlp-object-detection/final_dlp_data/final_dlp_data/test/images/b354e8d4-7d8f-4479-b4cb-dd4f5b7b5ff1.jpeg: 864x672 1 albopictus, 9.6ms\n",
      "image 373/525 /kaggle/input/dlp-object-detection/final_dlp_data/final_dlp_data/test/images/b407fd1a-a6eb-4819-973e-eceee6c5a8c2.jpeg: 864x672 1 albopictus, 9.5ms\n",
      "image 374/525 /kaggle/input/dlp-object-detection/final_dlp_data/final_dlp_data/test/images/b45711ca-03c3-44bc-ac20-1bfc0a7511ae.jpeg: 512x864 1 culex, 8.6ms\n",
      "image 375/525 /kaggle/input/dlp-object-detection/final_dlp_data/final_dlp_data/test/images/b468a45d-b1d9-4fcc-bebf-25fca147a9ec.jpeg: 864x512 1 albopictus, 8.3ms\n",
      "image 376/525 /kaggle/input/dlp-object-detection/final_dlp_data/final_dlp_data/test/images/b49e20bf-897b-4f0a-bc62-a6f910cf2bb0.jpeg: 864x672 1 culex, 10.4ms\n",
      "image 377/525 /kaggle/input/dlp-object-detection/final_dlp_data/final_dlp_data/test/images/b4e8060b-265f-41ca-a488-681494494a81.jpeg: 864x672 1 albopictus, 9.5ms\n",
      "image 378/525 /kaggle/input/dlp-object-detection/final_dlp_data/final_dlp_data/test/images/b5164505-a7fb-43c8-bc80-b60c53fa2f1d.jpeg: 768x864 (no detections), 11.4ms\n",
      "image 379/525 /kaggle/input/dlp-object-detection/final_dlp_data/final_dlp_data/test/images/b5bf4381-495a-4631-855d-ea0d0032d2c9.jpeg: 864x672 1 albopictus, 10.3ms\n",
      "image 380/525 /kaggle/input/dlp-object-detection/final_dlp_data/final_dlp_data/test/images/b719ddba-3666-4dfd-848b-afe465d4dd5c.jpeg: 864x672 1 albopictus, 9.6ms\n",
      "image 381/525 /kaggle/input/dlp-object-detection/final_dlp_data/final_dlp_data/test/images/b7392bd7-20c9-4f6f-8cd4-21af0215d138.jpeg: 864x672 1 culex, 9.6ms\n",
      "image 382/525 /kaggle/input/dlp-object-detection/final_dlp_data/final_dlp_data/test/images/b8749af1-2c85-46e3-a8b1-f5a97775e2b9.jpeg: 864x672 1 albopictus, 12.1ms\n",
      "image 383/525 /kaggle/input/dlp-object-detection/final_dlp_data/final_dlp_data/test/images/b8f8fc4e-2ab6-4bb4-b60e-55cc2eab5bfb.jpeg: 864x672 1 albopictus, 9.6ms\n",
      "image 384/525 /kaggle/input/dlp-object-detection/final_dlp_data/final_dlp_data/test/images/b9e42504-5d54-48ff-b2c1-18e43c0666cb.jpeg: 864x448 1 culex, 8.1ms\n",
      "image 385/525 /kaggle/input/dlp-object-detection/final_dlp_data/final_dlp_data/test/images/ba22d436-37a8-41e3-ab52-9fd89afae6f5.jpeg: 864x672 1 albopictus, 10.2ms\n",
      "image 386/525 /kaggle/input/dlp-object-detection/final_dlp_data/final_dlp_data/test/images/bb0986d9-fa04-40a5-8de2-c54045537e17.jpeg: 448x864 1 albopictus, 8.4ms\n",
      "image 387/525 /kaggle/input/dlp-object-detection/final_dlp_data/final_dlp_data/test/images/bbf16117-ce35-432c-a46d-c14e2aaebd54.jpeg: 864x672 1 culex, 10.1ms\n",
      "image 388/525 /kaggle/input/dlp-object-detection/final_dlp_data/final_dlp_data/test/images/bc8de947-ad28-4f6c-98a3-c2c2e302df8c.jpeg: 864x672 1 culex, 9.5ms\n",
      "image 389/525 /kaggle/input/dlp-object-detection/final_dlp_data/final_dlp_data/test/images/bcae8031-582a-48f4-9b2d-e64ceb01f8f8.jpeg: 864x672 (no detections), 9.6ms\n",
      "image 390/525 /kaggle/input/dlp-object-detection/final_dlp_data/final_dlp_data/test/images/bd403602-7ced-47f7-b580-90cb8658e043.jpeg: 864x512 6 albopictuss, 8.5ms\n",
      "image 391/525 /kaggle/input/dlp-object-detection/final_dlp_data/final_dlp_data/test/images/bd5fd521-9468-4bc4-8de0-f5b56ca61c56.jpeg: 864x864 1 albopictus, 12.0ms\n",
      "image 392/525 /kaggle/input/dlp-object-detection/final_dlp_data/final_dlp_data/test/images/bd6b16ae-1422-455f-8017-1fd41bda97bd.jpeg: 864x672 1 albopictus, 10.1ms\n",
      "image 393/525 /kaggle/input/dlp-object-detection/final_dlp_data/final_dlp_data/test/images/bd78fc99-e160-47a9-8dec-10d1b7e1a6d6.jpeg: 864x672 1 culex, 9.5ms\n",
      "image 394/525 /kaggle/input/dlp-object-detection/final_dlp_data/final_dlp_data/test/images/bd91db7b-04f5-4b9d-bd75-ce527c5f287e.jpeg: 864x672 1 culex, 9.5ms\n",
      "image 395/525 /kaggle/input/dlp-object-detection/final_dlp_data/final_dlp_data/test/images/be364f29-22cd-4424-9cf3-98eab266245a.jpeg: 864x672 1 culex, 9.5ms\n",
      "image 396/525 /kaggle/input/dlp-object-detection/final_dlp_data/final_dlp_data/test/images/beb40459-7e8c-45cc-91a4-b0946728902f.jpeg: 864x672 1 albopictus, 9.5ms\n",
      "image 397/525 /kaggle/input/dlp-object-detection/final_dlp_data/final_dlp_data/test/images/bedca634-f975-4989-8cde-b10adbff48a5.jpeg: 864x672 1 culex, 9.5ms\n",
      "image 398/525 /kaggle/input/dlp-object-detection/final_dlp_data/final_dlp_data/test/images/c08c4e26-f1f3-421d-b164-4c0a8fc95bd0.jpeg: 864x672 (no detections), 9.6ms\n",
      "image 399/525 /kaggle/input/dlp-object-detection/final_dlp_data/final_dlp_data/test/images/c1225ecd-bcce-4534-9a60-0b7492d5ac6a.jpeg: 864x672 1 culex, 9.5ms\n",
      "image 400/525 /kaggle/input/dlp-object-detection/final_dlp_data/final_dlp_data/test/images/c1db492f-ff9b-4f50-b18e-d89d0b9fbad2.jpeg: 864x416 1 albopictus, 8.2ms\n",
      "image 401/525 /kaggle/input/dlp-object-detection/final_dlp_data/final_dlp_data/test/images/c1e19357-d49a-4ad4-a706-094d905eca4d.jpeg: 864x672 1 culex, 10.1ms\n",
      "image 402/525 /kaggle/input/dlp-object-detection/final_dlp_data/final_dlp_data/test/images/c21d3614-5046-4233-a04b-adcf1ba558f3.jpeg: 864x672 (no detections), 9.5ms\n",
      "image 403/525 /kaggle/input/dlp-object-detection/final_dlp_data/final_dlp_data/test/images/c22585ce-da16-417d-8687-6161ddeef034.jpeg: 864x864 (no detections), 11.8ms\n",
      "image 404/525 /kaggle/input/dlp-object-detection/final_dlp_data/final_dlp_data/test/images/c258f385-f551-48fb-bcd7-5691b699e33d.jpeg: 864x448 1 albopictus, 8.5ms\n",
      "image 405/525 /kaggle/input/dlp-object-detection/final_dlp_data/final_dlp_data/test/images/c25b0aac-bfaa-4138-8afb-ca824f8fcfb6.jpeg: 864x672 1 culex, 10.5ms\n",
      "image 406/525 /kaggle/input/dlp-object-detection/final_dlp_data/final_dlp_data/test/images/c2e4b9be-0252-46c1-a077-ee2231f9fad3.jpeg: 864x672 1 albopictus, 9.6ms\n",
      "image 407/525 /kaggle/input/dlp-object-detection/final_dlp_data/final_dlp_data/test/images/c2eb5470-5965-4700-84a1-41f5ed0db39d.jpeg: 672x864 1 culex, 9.9ms\n",
      "image 408/525 /kaggle/input/dlp-object-detection/final_dlp_data/final_dlp_data/test/images/c36d530a-4e03-4819-8e5a-f5043c14e947.jpeg: 864x672 1 albopictus, 10.1ms\n",
      "image 409/525 /kaggle/input/dlp-object-detection/final_dlp_data/final_dlp_data/test/images/c4b01f99-7ba3-4415-b311-b41d503cc51c.jpeg: 672x864 1 culex, 9.7ms\n",
      "image 410/525 /kaggle/input/dlp-object-detection/final_dlp_data/final_dlp_data/test/images/c5d6c7c8-84fe-4e6b-b25a-ba9e13f56e6d.jpeg: 672x864 1 culex, 9.2ms\n",
      "image 411/525 /kaggle/input/dlp-object-detection/final_dlp_data/final_dlp_data/test/images/c5faae5c-cec0-4f68-80bd-4c68f675570a.jpeg: 672x864 1 albopictus, 9.2ms\n",
      "image 412/525 /kaggle/input/dlp-object-detection/final_dlp_data/final_dlp_data/test/images/c611eaf5-1475-44a4-8667-69a645387631.jpeg: 672x864 1 albopictus, 9.1ms\n",
      "image 413/525 /kaggle/input/dlp-object-detection/final_dlp_data/final_dlp_data/test/images/c6ae5215-a55b-49ae-b920-f1adc794f21f.jpeg: 672x864 1 culex, 9.1ms\n",
      "image 414/525 /kaggle/input/dlp-object-detection/final_dlp_data/final_dlp_data/test/images/c6ca72a3-c829-411d-aec8-2d93f9b784d5.jpeg: 864x672 1 albopictus, 10.4ms\n",
      "image 415/525 /kaggle/input/dlp-object-detection/final_dlp_data/final_dlp_data/test/images/c84caf37-ed09-40e2-bf85-6c5f3c3b6668.jpeg: 864x672 1 albopictus, 9.6ms\n",
      "image 416/525 /kaggle/input/dlp-object-detection/final_dlp_data/final_dlp_data/test/images/c8a84ab5-6414-4519-bc1c-d871e3f94d82.jpeg: 864x416 (no detections), 7.9ms\n",
      "image 417/525 /kaggle/input/dlp-object-detection/final_dlp_data/final_dlp_data/test/images/c8ac23aa-048f-448e-9e77-e0525fd386bc.jpeg: 864x512 1 culex, 8.2ms\n",
      "image 418/525 /kaggle/input/dlp-object-detection/final_dlp_data/final_dlp_data/test/images/c93e13f2-780b-4238-9d03-f3138d615cbc.jpeg: 864x672 1 culex, 10.2ms\n",
      "image 419/525 /kaggle/input/dlp-object-detection/final_dlp_data/final_dlp_data/test/images/c997c05b-4e95-4b31-b0a1-3bcfa0606a07.jpeg: 864x448 (no detections), 8.5ms\n",
      "image 420/525 /kaggle/input/dlp-object-detection/final_dlp_data/final_dlp_data/test/images/c9cf816e-0761-469c-aecc-ad6a5b7e3550.jpeg: 864x672 1 albopictus, 11.7ms\n",
      "image 421/525 /kaggle/input/dlp-object-detection/final_dlp_data/final_dlp_data/test/images/c9d5e929-70b1-4546-925a-b765e3567328.jpeg: 672x864 1 culex, 9.7ms\n",
      "image 422/525 /kaggle/input/dlp-object-detection/final_dlp_data/final_dlp_data/test/images/c9e0f892-48a5-4438-9b83-f3b4d537b4eb.jpeg: 864x672 1 culex, 12.0ms\n",
      "image 423/525 /kaggle/input/dlp-object-detection/final_dlp_data/final_dlp_data/test/images/ca1468e3-1337-48b3-b378-135758317454.jpeg: 448x864 (no detections), 8.0ms\n",
      "image 424/525 /kaggle/input/dlp-object-detection/final_dlp_data/final_dlp_data/test/images/ca988521-2f2b-4298-9613-f83ad69a0c92.jpeg: 864x448 1 culex, 8.1ms\n",
      "image 425/525 /kaggle/input/dlp-object-detection/final_dlp_data/final_dlp_data/test/images/cb137729-abc2-4bc0-9af0-54738dbdeae1.jpeg: 864x672 1 albopictus, 10.3ms\n",
      "image 426/525 /kaggle/input/dlp-object-detection/final_dlp_data/final_dlp_data/test/images/cb26c59c-5834-4265-b111-73ce172e459f.jpeg: 864x672 1 albopictus, 9.6ms\n",
      "image 427/525 /kaggle/input/dlp-object-detection/final_dlp_data/final_dlp_data/test/images/cb8843a3-9de8-4b22-a6e0-2c85f1b59285.jpeg: 800x864 1 albopictus, 11.5ms\n",
      "image 428/525 /kaggle/input/dlp-object-detection/final_dlp_data/final_dlp_data/test/images/cc534b4e-0cb9-40fa-9aa1-795e2ea77e01.jpeg: 864x672 1 albopictus, 10.1ms\n",
      "image 429/525 /kaggle/input/dlp-object-detection/final_dlp_data/final_dlp_data/test/images/cc878b64-bdb3-4b0d-9710-45f748660baf.jpeg: 864x512 1 albopictus, 8.2ms\n",
      "image 430/525 /kaggle/input/dlp-object-detection/final_dlp_data/final_dlp_data/test/images/ccc800cb-835c-4d39-9dd6-535630d0bfd0.jpeg: 864x576 (no detections), 9.5ms\n",
      "image 431/525 /kaggle/input/dlp-object-detection/final_dlp_data/final_dlp_data/test/images/ccd1ca77-5165-499a-956d-d5555550ddc4.jpeg: 864x416 1 culex, 7.9ms\n",
      "image 432/525 /kaggle/input/dlp-object-detection/final_dlp_data/final_dlp_data/test/images/cd63762c-0a6f-4225-8c52-75b420388095.jpeg: 864x672 1 albopictus, 10.4ms\n",
      "image 433/525 /kaggle/input/dlp-object-detection/final_dlp_data/final_dlp_data/test/images/cda1baca-3759-43bf-9b63-4992209d94ff.jpeg: 864x672 1 culex, 9.5ms\n",
      "image 434/525 /kaggle/input/dlp-object-detection/final_dlp_data/final_dlp_data/test/images/cda426f3-4616-40fb-96ea-4f40cd5707d9.jpeg: 864x672 1 culex, 9.5ms\n",
      "image 435/525 /kaggle/input/dlp-object-detection/final_dlp_data/final_dlp_data/test/images/cdbe94f1-a76b-413b-bf19-157feada99ef.jpeg: 864x672 1 albopictus, 10.8ms\n",
      "image 436/525 /kaggle/input/dlp-object-detection/final_dlp_data/final_dlp_data/test/images/ce6f285b-0b1f-4986-a006-4b7930a57107.jpeg: 864x672 1 culex, 9.6ms\n",
      "image 437/525 /kaggle/input/dlp-object-detection/final_dlp_data/final_dlp_data/test/images/ceaeb26a-79f7-49ed-8d5b-850133dec2d5.jpeg: 864x672 3 culexs, 9.5ms\n",
      "image 438/525 /kaggle/input/dlp-object-detection/final_dlp_data/final_dlp_data/test/images/cf8727ca-2df6-4850-b41d-23d7b8ab81a8.jpeg: 864x416 1 albopictus, 7.9ms\n",
      "image 439/525 /kaggle/input/dlp-object-detection/final_dlp_data/final_dlp_data/test/images/cf8f8316-7129-4c85-b5b5-2fc62406a42a.jpeg: 864x672 1 culex, 10.3ms\n",
      "image 440/525 /kaggle/input/dlp-object-detection/final_dlp_data/final_dlp_data/test/images/d19595cc-d15a-40c3-b576-120487498911.jpeg: 672x864 1 albopictus, 10.1ms\n",
      "image 441/525 /kaggle/input/dlp-object-detection/final_dlp_data/final_dlp_data/test/images/d2a7a904-6270-40d8-b203-7da9352f5465.jpeg: 864x416 1 albopictus, 7.9ms\n",
      "image 442/525 /kaggle/input/dlp-object-detection/final_dlp_data/final_dlp_data/test/images/d2cfa22b-b242-4cbd-88e9-0de947cc2899.jpeg: 864x672 (no detections), 12.5ms\n",
      "image 443/525 /kaggle/input/dlp-object-detection/final_dlp_data/final_dlp_data/test/images/d4d6b9ff-1d8e-4f8d-bccb-104af272a62e.jpeg: 864x672 1 culex, 9.6ms\n",
      "image 444/525 /kaggle/input/dlp-object-detection/final_dlp_data/final_dlp_data/test/images/d559d807-5b86-4a11-9957-e48315f9f5ae.jpeg: 864x512 1 culex, 8.4ms\n",
      "image 445/525 /kaggle/input/dlp-object-detection/final_dlp_data/final_dlp_data/test/images/d5918c3c-dcd7-4f5b-a3d0-427d943b3d19.jpeg: 864x672 1 albopictus, 10.2ms\n",
      "image 446/525 /kaggle/input/dlp-object-detection/final_dlp_data/final_dlp_data/test/images/d6a596ab-07a1-4284-88d5-7cc3a08232a1.jpeg: 864x672 1 culiseta, 9.6ms\n",
      "image 447/525 /kaggle/input/dlp-object-detection/final_dlp_data/final_dlp_data/test/images/d6a66463-38b6-4756-8ea9-dc254ea93c55.jpeg: 672x864 1 albopictus, 9.8ms\n",
      "image 448/525 /kaggle/input/dlp-object-detection/final_dlp_data/final_dlp_data/test/images/d6cd68e8-d6af-4c30-8f17-f41c55f65972.jpeg: 864x672 1 culex, 10.4ms\n",
      "image 449/525 /kaggle/input/dlp-object-detection/final_dlp_data/final_dlp_data/test/images/d74c2888-2727-4dea-b90e-10e2b6d64a37.jpeg: 864x768 1 albopictus, 11.2ms\n",
      "image 450/525 /kaggle/input/dlp-object-detection/final_dlp_data/final_dlp_data/test/images/d79ff754-c00b-433d-9108-571d72832d8d.jpeg: 864x672 (no detections), 10.2ms\n",
      "image 451/525 /kaggle/input/dlp-object-detection/final_dlp_data/final_dlp_data/test/images/d7f2b0cd-85a3-44cd-99bb-cbe457de96cd.jpeg: 864x672 1 albopictus, 9.6ms\n",
      "image 452/525 /kaggle/input/dlp-object-detection/final_dlp_data/final_dlp_data/test/images/d860ea0a-480e-4ad8-848a-270e8ca17d82.jpeg: 864x672 1 culiseta, 9.5ms\n",
      "image 453/525 /kaggle/input/dlp-object-detection/final_dlp_data/final_dlp_data/test/images/d9221f5c-8da1-4fdb-b986-bbbc1f9feb31.jpeg: 608x864 1 albopictus, 8.9ms\n",
      "image 454/525 /kaggle/input/dlp-object-detection/final_dlp_data/final_dlp_data/test/images/d93d5ba8-10c1-4f20-b48d-032ea5f55862.jpeg: 672x864 1 albopictus, 9.9ms\n",
      "image 455/525 /kaggle/input/dlp-object-detection/final_dlp_data/final_dlp_data/test/images/d9597d33-cb2d-49fe-a6ac-3fb5f83af544.jpeg: 864x416 1 culex, 8.0ms\n",
      "image 456/525 /kaggle/input/dlp-object-detection/final_dlp_data/final_dlp_data/test/images/da0226ce-ef8f-4217-bd5d-38955a232eab.jpeg: 864x672 1 culiseta, 10.3ms\n",
      "image 457/525 /kaggle/input/dlp-object-detection/final_dlp_data/final_dlp_data/test/images/da1f7c2d-214e-4908-86e3-64d7ea842110.jpeg: 864x672 1 culex, 9.6ms\n",
      "image 458/525 /kaggle/input/dlp-object-detection/final_dlp_data/final_dlp_data/test/images/da9dbb82-38f7-4f85-bb9e-633c16801a5d.jpeg: 864x672 1 albopictus, 9.5ms\n",
      "image 459/525 /kaggle/input/dlp-object-detection/final_dlp_data/final_dlp_data/test/images/db4ade79-fce4-4d77-a8fa-36b9e77dfd08.jpeg: 864x672 2 culexs, 9.5ms\n",
      "image 460/525 /kaggle/input/dlp-object-detection/final_dlp_data/final_dlp_data/test/images/db5d29ce-5a9c-4b3d-a369-041026c7fc01.jpeg: 864x512 1 albopictus, 8.4ms\n",
      "image 461/525 /kaggle/input/dlp-object-detection/final_dlp_data/final_dlp_data/test/images/dbc50da2-dfd6-43eb-ae32-75f909080c5e.jpeg: 672x864 1 culex, 9.8ms\n",
      "image 462/525 /kaggle/input/dlp-object-detection/final_dlp_data/final_dlp_data/test/images/dced8639-b6bd-4c9d-8713-f6c3541aa908.jpeg: 864x864 1 culex, 11.9ms\n",
      "image 463/525 /kaggle/input/dlp-object-detection/final_dlp_data/final_dlp_data/test/images/dd94d87e-d167-403a-b2bc-164e54e220f5.jpeg: 864x512 1 albopictus, 8.2ms\n",
      "image 464/525 /kaggle/input/dlp-object-detection/final_dlp_data/final_dlp_data/test/images/ddae84a6-5e21-4aa8-9246-4a269daedaeb.jpeg: 864x672 1 culex, 10.4ms\n",
      "image 465/525 /kaggle/input/dlp-object-detection/final_dlp_data/final_dlp_data/test/images/ddff4816-55b0-472f-9074-5815b3d9ee64.jpeg: 512x864 (no detections), 8.1ms\n",
      "image 466/525 /kaggle/input/dlp-object-detection/final_dlp_data/final_dlp_data/test/images/df0b7b23-4b1d-479a-9387-6980d007e563.jpeg: 864x416 1 albopictus, 8.0ms\n",
      "image 467/525 /kaggle/input/dlp-object-detection/final_dlp_data/final_dlp_data/test/images/e159fe8a-2810-4b83-89e6-71504446199b.jpeg: 864x864 1 albopictus, 11.8ms\n",
      "image 468/525 /kaggle/input/dlp-object-detection/final_dlp_data/final_dlp_data/test/images/e2364abc-4bb8-4d30-baa2-05abb4884566.jpeg: 512x864 1 albopictus, 8.1ms\n",
      "image 469/525 /kaggle/input/dlp-object-detection/final_dlp_data/final_dlp_data/test/images/e28a655c-73f5-45cf-8677-97ad2406afce.jpeg: 864x512 1 albopictus, 8.2ms\n",
      "image 470/525 /kaggle/input/dlp-object-detection/final_dlp_data/final_dlp_data/test/images/e3718f98-7952-42d2-a6b7-230d1ccb631b.jpeg: 864x640 1 culex, 9.7ms\n",
      "image 471/525 /kaggle/input/dlp-object-detection/final_dlp_data/final_dlp_data/test/images/e406df2a-06dc-4bd3-9ed2-a708299291b3.jpeg: 864x864 1 culex, 11.9ms\n",
      "image 472/525 /kaggle/input/dlp-object-detection/final_dlp_data/final_dlp_data/test/images/e4b45fc6-2c07-48b5-a2e2-89a7269a5215.jpeg: 672x864 1 albopictus, 10.0ms\n",
      "image 473/525 /kaggle/input/dlp-object-detection/final_dlp_data/final_dlp_data/test/images/e6831853-9088-486d-b8f2-8a907a547013.jpeg: 864x544 1 albopictus, 9.7ms\n",
      "image 474/525 /kaggle/input/dlp-object-detection/final_dlp_data/final_dlp_data/test/images/e69706ed-b7cf-4565-a65e-1b71f095b0fe.jpeg: 864x672 1 albopictus, 10.2ms\n",
      "image 475/525 /kaggle/input/dlp-object-detection/final_dlp_data/final_dlp_data/test/images/e7b85d97-bbfd-41ba-8b1c-553bf8106a6b.jpeg: 864x672 (no detections), 9.6ms\n",
      "image 476/525 /kaggle/input/dlp-object-detection/final_dlp_data/final_dlp_data/test/images/e81386cc-12e0-4839-a0e1-ee05c15463b2.jpeg: 864x672 1 culex, 9.5ms\n",
      "image 477/525 /kaggle/input/dlp-object-detection/final_dlp_data/final_dlp_data/test/images/e8e8fe82-6df2-4cf9-be57-1dfa9d5689a1.jpeg: 864x672 1 albopictus, 9.7ms\n",
      "image 478/525 /kaggle/input/dlp-object-detection/final_dlp_data/final_dlp_data/test/images/e9421260-554b-4b80-9a55-43e23be1ac31.jpeg: 864x672 1 culex, 9.5ms\n",
      "image 479/525 /kaggle/input/dlp-object-detection/final_dlp_data/final_dlp_data/test/images/e95104ae-58d5-4b7d-a8b1-309fb0635719.jpeg: 864x416 1 culex, 8.0ms\n",
      "image 480/525 /kaggle/input/dlp-object-detection/final_dlp_data/final_dlp_data/test/images/e99de36d-acec-48de-87e1-3eadb744f36c.jpeg: 864x672 1 albopictus, 10.2ms\n",
      "image 481/525 /kaggle/input/dlp-object-detection/final_dlp_data/final_dlp_data/test/images/eb77511d-c039-4eb5-8f66-e85c2e397bf0.jpeg: 864x672 1 culex, 9.5ms\n",
      "image 482/525 /kaggle/input/dlp-object-detection/final_dlp_data/final_dlp_data/test/images/ec26e4aa-96b4-4bf8-ab1b-e9bfe8d5b497.jpeg: 864x672 1 culex, 9.5ms\n",
      "image 483/525 /kaggle/input/dlp-object-detection/final_dlp_data/final_dlp_data/test/images/ec3c8d12-411e-44ab-98f6-0ea213941bfa.jpeg: 512x864 1 culex, 8.1ms\n",
      "image 484/525 /kaggle/input/dlp-object-detection/final_dlp_data/final_dlp_data/test/images/ec7264d5-9a18-4b1c-a349-be38f37cd666.jpeg: 864x672 1 culex, 10.1ms\n",
      "image 485/525 /kaggle/input/dlp-object-detection/final_dlp_data/final_dlp_data/test/images/ed1bdf6c-31ac-4e75-be11-8ff41bae2423.jpeg: 864x672 1 albopictus, 9.6ms\n",
      "image 486/525 /kaggle/input/dlp-object-detection/final_dlp_data/final_dlp_data/test/images/ed3124f1-4be2-48a6-963d-0e4dfa2bdca1.jpeg: 864x512 1 culex, 8.2ms\n",
      "image 487/525 /kaggle/input/dlp-object-detection/final_dlp_data/final_dlp_data/test/images/edc597d1-8b44-4fe5-9e07-4f8f59f38a0c.jpeg: 864x672 1 culex, 10.3ms\n",
      "image 488/525 /kaggle/input/dlp-object-detection/final_dlp_data/final_dlp_data/test/images/ef46203e-e10f-4f5d-beef-a71befc33b98.jpeg: 864x672 1 albopictus, 9.6ms\n",
      "image 489/525 /kaggle/input/dlp-object-detection/final_dlp_data/final_dlp_data/test/images/ef897688-6897-4291-9b41-3c684a3d67ef.jpeg: 864x672 2 culexs, 9.5ms\n",
      "image 490/525 /kaggle/input/dlp-object-detection/final_dlp_data/final_dlp_data/test/images/f0142330-928e-4fa7-9709-001330db1a54.jpeg: 864x416 1 culex, 9.9ms\n",
      "image 491/525 /kaggle/input/dlp-object-detection/final_dlp_data/final_dlp_data/test/images/f0cca9d1-06cc-43d5-b5c3-0597b269be14.jpeg: 864x864 1 albopictus, 12.1ms\n",
      "image 492/525 /kaggle/input/dlp-object-detection/final_dlp_data/final_dlp_data/test/images/f0e35423-551b-4e6f-af5f-da2c4a693ffb.jpeg: 864x672 1 albopictus, 10.5ms\n",
      "image 493/525 /kaggle/input/dlp-object-detection/final_dlp_data/final_dlp_data/test/images/f16aa44b-5be5-4f2d-b4cc-263ad20cb0b9.jpeg: 864x672 (no detections), 9.6ms\n",
      "image 494/525 /kaggle/input/dlp-object-detection/final_dlp_data/final_dlp_data/test/images/f19f20b8-a542-4555-bd5e-b2de8f0fd2dd.jpeg: 864x864 1 albopictus, 12.0ms\n",
      "image 495/525 /kaggle/input/dlp-object-detection/final_dlp_data/final_dlp_data/test/images/f2fa7c6b-3456-49ea-a5b8-dc2d581155b8.jpeg: 864x672 1 albopictus, 10.5ms\n",
      "image 496/525 /kaggle/input/dlp-object-detection/final_dlp_data/final_dlp_data/test/images/f35161fd-3278-4a3f-9543-8979dfe80323.jpeg: 864x512 (no detections), 8.4ms\n",
      "image 497/525 /kaggle/input/dlp-object-detection/final_dlp_data/final_dlp_data/test/images/f3b6f69d-aa88-497c-a50f-672e2da7ffd2.jpeg: 864x672 1 albopictus, 10.3ms\n",
      "image 498/525 /kaggle/input/dlp-object-detection/final_dlp_data/final_dlp_data/test/images/f3e044bf-572c-4d25-bb7d-2c43d5f519b9.jpeg: 864x672 1 culex, 9.5ms\n",
      "image 499/525 /kaggle/input/dlp-object-detection/final_dlp_data/final_dlp_data/test/images/f471732b-e86a-4b41-b499-33763a42fb2c.jpeg: 864x704 1 culex, 10.5ms\n",
      "image 500/525 /kaggle/input/dlp-object-detection/final_dlp_data/final_dlp_data/test/images/f5017eca-2636-4a51-b57d-db6f94dacb6f.jpeg: 864x512 1 culex, 8.3ms\n",
      "image 501/525 /kaggle/input/dlp-object-detection/final_dlp_data/final_dlp_data/test/images/f5161716-98a8-48e7-9eac-10afc07d9078.jpeg: 672x864 1 culex, 9.7ms\n",
      "image 502/525 /kaggle/input/dlp-object-detection/final_dlp_data/final_dlp_data/test/images/f543c192-7ab7-4c63-8cea-7754aa5f3fb4.jpeg: 512x864 1 albopictus, 8.1ms\n",
      "image 503/525 /kaggle/input/dlp-object-detection/final_dlp_data/final_dlp_data/test/images/f5b8bb3c-9ec5-46f2-872e-ea00ad006899.jpeg: 864x512 1 albopictus, 8.2ms\n",
      "image 504/525 /kaggle/input/dlp-object-detection/final_dlp_data/final_dlp_data/test/images/f6324704-0abe-47df-977e-8bbb574b65e5.jpeg: 512x864 1 culex, 8.1ms\n",
      "image 505/525 /kaggle/input/dlp-object-detection/final_dlp_data/final_dlp_data/test/images/f64aafcb-e423-4125-85c9-f82d41372e30.jpeg: 864x672 1 culex, 10.2ms\n",
      "image 506/525 /kaggle/input/dlp-object-detection/final_dlp_data/final_dlp_data/test/images/f6a4a427-9693-4c34-93a8-bc80ba2b2151.jpeg: 672x864 1 albopictus, 9.9ms\n",
      "image 507/525 /kaggle/input/dlp-object-detection/final_dlp_data/final_dlp_data/test/images/f6f492ef-ce94-4402-a4fa-27d089e29168.jpeg: 864x672 1 culex, 10.2ms\n",
      "image 508/525 /kaggle/input/dlp-object-detection/final_dlp_data/final_dlp_data/test/images/f7f8f183-59d5-4ab3-b35e-f2b34944dd65.jpeg: 864x672 2 albopictuss, 9.6ms\n",
      "image 509/525 /kaggle/input/dlp-object-detection/final_dlp_data/final_dlp_data/test/images/f84c4174-3bfb-42eb-8e52-b5af5c7b561f.jpeg: 864x672 (no detections), 9.6ms\n",
      "image 510/525 /kaggle/input/dlp-object-detection/final_dlp_data/final_dlp_data/test/images/f8651621-f5d3-4caa-9b39-3e4b28ac8e82.jpeg: 864x672 1 albopictus, 9.6ms\n",
      "image 511/525 /kaggle/input/dlp-object-detection/final_dlp_data/final_dlp_data/test/images/f995d508-9856-4c9e-9fc4-c2621514d6d3.jpeg: 864x672 1 albopictus, 9.5ms\n",
      "image 512/525 /kaggle/input/dlp-object-detection/final_dlp_data/final_dlp_data/test/images/f99dd95b-e554-4d3f-a881-1604b2b54ca7.jpeg: 864x672 1 albopictus, 9.5ms\n",
      "image 513/525 /kaggle/input/dlp-object-detection/final_dlp_data/final_dlp_data/test/images/f9d49514-a10e-4d40-b45c-f5ac1d8a9511.jpeg: 864x512 1 albopictus, 8.3ms\n",
      "image 514/525 /kaggle/input/dlp-object-detection/final_dlp_data/final_dlp_data/test/images/fa1f7f19-3f8a-4171-9540-a0d8e4f678ac.jpeg: 864x672 1 culex, 10.3ms\n",
      "image 515/525 /kaggle/input/dlp-object-detection/final_dlp_data/final_dlp_data/test/images/fa7cf812-7521-4cae-987b-510cb002ffaf.jpeg: 864x672 1 albopictus, 9.6ms\n",
      "image 516/525 /kaggle/input/dlp-object-detection/final_dlp_data/final_dlp_data/test/images/fad772e4-e81f-4733-b59f-e932ff6183da.jpeg: 864x832 (no detections), 11.6ms\n",
      "image 517/525 /kaggle/input/dlp-object-detection/final_dlp_data/final_dlp_data/test/images/fae311fd-a029-4bc5-ada9-e240a2a2bc8d.jpeg: 864x672 1 albopictus, 10.4ms\n",
      "image 518/525 /kaggle/input/dlp-object-detection/final_dlp_data/final_dlp_data/test/images/fbe9717c-3d69-4529-94ee-f1f4ff48e4b5.jpeg: 864x576 1 culex, 9.5ms\n",
      "image 519/525 /kaggle/input/dlp-object-detection/final_dlp_data/final_dlp_data/test/images/fc08fd27-0b82-4c62-b7b8-6527db33c381.jpeg: 864x672 1 culex, 10.3ms\n",
      "image 520/525 /kaggle/input/dlp-object-detection/final_dlp_data/final_dlp_data/test/images/fcccf734-a11d-4383-b394-2f23002ae962.jpeg: 864x832 1 albopictus, 11.6ms\n",
      "image 521/525 /kaggle/input/dlp-object-detection/final_dlp_data/final_dlp_data/test/images/fcfec73a-49ca-435c-aa3a-bfaa36446e19.jpeg: 672x864 1 culex, 10.0ms\n",
      "image 522/525 /kaggle/input/dlp-object-detection/final_dlp_data/final_dlp_data/test/images/fd449c6f-fa26-4797-90b4-f65d4eb5b9d3.jpeg: 672x864 1 albopictus, 9.1ms\n",
      "image 523/525 /kaggle/input/dlp-object-detection/final_dlp_data/final_dlp_data/test/images/feab7021-ab56-4433-824f-bf2436bdd34f.jpeg: 864x672 1 culex, 10.3ms\n",
      "image 524/525 /kaggle/input/dlp-object-detection/final_dlp_data/final_dlp_data/test/images/ff2422f8-5cea-440d-85c9-3fef9ea056ef.jpeg: 864x672 1 culex, 9.5ms\n",
      "image 525/525 /kaggle/input/dlp-object-detection/final_dlp_data/final_dlp_data/test/images/ffb694d6-aee3-4aff-bde8-74ce94e7c8d2.jpeg: 864x672 1 culex, 9.6ms\n",
      "Speed: 4.2ms preprocess, 11.2ms inference, 1.3ms postprocess per image at shape (1, 3, 864, 672)\n",
      "Results saved to \u001b[1mruns/detect/train3\u001b[0m\n",
      "495 labels saved to runs/detect/train3/labels\n"
     ]
    }
   ],
   "source": [
    "test_results = model.predict(\"/kaggle/input/dlp-object-detection/final_dlp_data/final_dlp_data/test/images\",\n",
    "                            save_txt=True,\n",
    "                            save_conf=True,\n",
    "                            conf=0.30,\n",
    "                            iou=0.50)"
   ]
  },
  {
   "cell_type": "code",
   "execution_count": 12,
   "id": "b704fb56",
   "metadata": {
    "execution": {
     "iopub.execute_input": "2024-12-06T10:27:25.000647Z",
     "iopub.status.busy": "2024-12-06T10:27:25.000306Z",
     "iopub.status.idle": "2024-12-06T10:27:25.006788Z",
     "shell.execute_reply": "2024-12-06T10:27:25.005922Z"
    },
    "papermill": {
     "duration": 0.486967,
     "end_time": "2024-12-06T10:27:25.008593",
     "exception": false,
     "start_time": "2024-12-06T10:27:24.521626",
     "status": "completed"
    },
    "tags": []
   },
   "outputs": [
    {
     "name": "stdout",
     "output_type": "stream",
     "text": [
      "495\n",
      "1 0.49217 0.427143 0.157357 0.129592 0.487092\n",
      "\n",
      "3 0.493246 0.427179 0.149657 0.125484 0.39065\n",
      "\n"
     ]
    }
   ],
   "source": [
    "predictions_dir = \"/kaggle/working/runs/detect/train3/labels\"\n",
    "\n",
    "files_list = os.listdir(predictions_dir)\n",
    "print(len(files_list))\n",
    "with open(os.path.join(predictions_dir,files_list[49]), \"r\") as f:\n",
    "    for line_id,line in enumerate(f):\n",
    "        print(line)"
   ]
  },
  {
   "cell_type": "code",
   "execution_count": 13,
   "id": "1f5b7c0b",
   "metadata": {
    "execution": {
     "iopub.execute_input": "2024-12-06T10:27:25.885779Z",
     "iopub.status.busy": "2024-12-06T10:27:25.885367Z",
     "iopub.status.idle": "2024-12-06T10:27:25.889856Z",
     "shell.execute_reply": "2024-12-06T10:27:25.888999Z"
    },
    "papermill": {
     "duration": 0.441418,
     "end_time": "2024-12-06T10:27:25.891460",
     "exception": false,
     "start_time": "2024-12-06T10:27:25.450042",
     "status": "completed"
    },
    "tags": []
   },
   "outputs": [],
   "source": [
    "class_names = [\"aegypti\",\"albopictus\",\"anopheles\",\n",
    "               \"culex\",\"culiseta\",\"japonicus/koreicus\"]   # Class names\n"
   ]
  },
  {
   "cell_type": "code",
   "execution_count": 14,
   "id": "9ebdb2d9",
   "metadata": {
    "execution": {
     "iopub.execute_input": "2024-12-06T10:27:26.851959Z",
     "iopub.status.busy": "2024-12-06T10:27:26.851067Z",
     "iopub.status.idle": "2024-12-06T10:27:27.053642Z",
     "shell.execute_reply": "2024-12-06T10:27:27.052647Z"
    },
    "papermill": {
     "duration": 0.678739,
     "end_time": "2024-12-06T10:27:27.055366",
     "exception": false,
     "start_time": "2024-12-06T10:27:26.376627",
     "status": "completed"
    },
    "tags": []
   },
   "outputs": [
    {
     "name": "stdout",
     "output_type": "stream",
     "text": [
      "Submission file saved to /kaggle/working/21F1000641.csv\n"
     ]
    }
   ],
   "source": [
    "import csv\n",
    "\n",
    "# Define the output CSV file path\n",
    "output_csv = \"/kaggle/working/21F1000641.csv\"\n",
    "test_path=\"/kaggle/input/dlp-object-detection/final_dlp_data/final_dlp_data/test/images\"\n",
    "\n",
    "# Initialize the CSV file with the header\n",
    "with open(output_csv, mode=\"w\", newline=\"\") as file:\n",
    "    writer = csv.writer(file)\n",
    "    sno=0\n",
    "    # Write header\n",
    "    writer.writerow([\"id\", \"ImageID\", \"LabelName\", \"Conf\", \"xcenter\", \"ycenter\", \"bbx_width\", \"bbx_height\"])\n",
    "\n",
    "    # Loop through all prediction files in the labels directory\n",
    "    for img_file in os.listdir(test_path):\n",
    "        txt_file = img_file.replace(\".jpeg\",\".txt\")\n",
    "        \n",
    "        image_id = img_file\n",
    "        label_test_file_path = os.path.join(predictions_dir,txt_file)\n",
    "        if txt_file in os.listdir(predictions_dir):\n",
    "            \n",
    "            # Read the predictions from the .txt file\n",
    "            with open(label_test_file_path, \"r\") as f:\n",
    "                lines = f.readlines()\n",
    "                if lines:  # File is empty\n",
    "                    max_conf=0\n",
    "                    for line in lines:\n",
    "                        #YOLO format: class x_center y_center width height confidence\n",
    "                        line_parts = line.strip().split()\n",
    "                        c = float(line_parts[5])\n",
    "                        if c>=max_conf:\n",
    "                            label_name = int(line_parts[0])  # Class ID\n",
    "                            xcenter = float(line_parts[1])\n",
    "                            ycenter = float(line_parts[2])\n",
    "                            bbx_width = float(line_parts[3])\n",
    "                            bbx_height = float(line_parts[4])\n",
    "                            conf = float(line_parts[5])\n",
    "                            max_conf = conf\n",
    "        else:\n",
    "            label_name = 0  # Placeholder class ID for no predictions\n",
    "            xcenter = 0.5   # Dummy values for bounding box\n",
    "            ycenter = 0.5\n",
    "            bbx_width = 0.2\n",
    "            bbx_height = 0.2\n",
    "            conf = 0.5\n",
    "\n",
    "        # Write row to CSV\n",
    "        writer.writerow([\n",
    "            sno,\n",
    "            image_id,\n",
    "            class_names[label_name],\n",
    "            conf,\n",
    "            xcenter,\n",
    "            ycenter,\n",
    "            bbx_width,\n",
    "            bbx_height\n",
    "        ])\n",
    "        sno+=1\n",
    "\n",
    "print(f\"Submission file saved to {output_csv}\")\n"
   ]
  },
  {
   "cell_type": "code",
   "execution_count": 15,
   "id": "da95780e",
   "metadata": {
    "execution": {
     "iopub.execute_input": "2024-12-06T10:27:27.980746Z",
     "iopub.status.busy": "2024-12-06T10:27:27.979877Z",
     "iopub.status.idle": "2024-12-06T10:27:27.984922Z",
     "shell.execute_reply": "2024-12-06T10:27:27.984149Z"
    },
    "papermill": {
     "duration": 0.44653,
     "end_time": "2024-12-06T10:27:27.986578",
     "exception": false,
     "start_time": "2024-12-06T10:27:27.540048",
     "status": "completed"
    },
    "tags": []
   },
   "outputs": [
    {
     "name": "stdout",
     "output_type": "stream",
     "text": [
      "['1 0.634885 0.659639 0.244449 0.231756 0.811765\\n']\n"
     ]
    }
   ],
   "source": [
    "print(lines)"
   ]
  },
  {
   "cell_type": "code",
   "execution_count": 16,
   "id": "0285f190",
   "metadata": {
    "execution": {
     "iopub.execute_input": "2024-12-06T10:27:28.907485Z",
     "iopub.status.busy": "2024-12-06T10:27:28.907096Z",
     "iopub.status.idle": "2024-12-06T10:27:28.919947Z",
     "shell.execute_reply": "2024-12-06T10:27:28.919091Z"
    },
    "papermill": {
     "duration": 0.494192,
     "end_time": "2024-12-06T10:27:28.921625",
     "exception": false,
     "start_time": "2024-12-06T10:27:28.427433",
     "status": "completed"
    },
    "tags": []
   },
   "outputs": [
    {
     "data": {
      "text/plain": [
       "525"
      ]
     },
     "execution_count": 16,
     "metadata": {},
     "output_type": "execute_result"
    }
   ],
   "source": [
    "len(pd.read_csv(\"/kaggle/working/21F1000641.csv\"))"
   ]
  }
 ],
 "metadata": {
  "kaggle": {
   "accelerator": "nvidiaTeslaT4",
   "dataSources": [
    {
     "databundleVersionId": 9622164,
     "sourceId": 85240,
     "sourceType": "competition"
    }
   ],
   "dockerImageVersionId": 30804,
   "isGpuEnabled": true,
   "isInternetEnabled": true,
   "language": "python",
   "sourceType": "notebook"
  },
  "kernelspec": {
   "display_name": "Python 3",
   "language": "python",
   "name": "python3"
  },
  "language_info": {
   "codemirror_mode": {
    "name": "ipython",
    "version": 3
   },
   "file_extension": ".py",
   "mimetype": "text/x-python",
   "name": "python",
   "nbconvert_exporter": "python",
   "pygments_lexer": "ipython3",
   "version": "3.10.14"
  },
  "papermill": {
   "default_parameters": {},
   "duration": 2504.090417,
   "end_time": "2024-12-06T10:27:33.489814",
   "environment_variables": {},
   "exception": null,
   "input_path": "__notebook__.ipynb",
   "output_path": "__notebook__.ipynb",
   "parameters": {},
   "start_time": "2024-12-06T09:45:49.399397",
   "version": "2.6.0"
  }
 },
 "nbformat": 4,
 "nbformat_minor": 5
}
